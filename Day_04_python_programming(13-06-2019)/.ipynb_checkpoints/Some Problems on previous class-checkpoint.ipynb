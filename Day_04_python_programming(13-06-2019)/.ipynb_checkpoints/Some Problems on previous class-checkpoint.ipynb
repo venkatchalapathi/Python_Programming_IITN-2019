{
 "cells": [
  {
   "cell_type": "code",
   "execution_count": 3,
   "metadata": {},
   "outputs": [
    {
     "name": "stdout",
     "output_type": "stream",
     "text": [
      "2000\n",
      "2004\n",
      "2008\n",
      "2012\n",
      "2016\n",
      "2020\n"
     ]
    }
   ],
   "source": [
    "# \n",
    "\n",
    "\n",
    "def printLeapsInRange(start,end):\n",
    "    for start in range(start,end+1):\n",
    "        if(checkLeap(start)):\n",
    "            print(start)\n",
    "    return\n",
    "def checkLeap(number):\n",
    "    if(number%400==0 or (number%100!=0 and number%4==0)):\n",
    "        return number\n",
    "    \n",
    "printLeapsInRange(2000,2020)"
   ]
  },
  {
   "cell_type": "code",
   "execution_count": 12,
   "metadata": {},
   "outputs": [
    {
     "data": {
      "text/plain": [
       "731"
      ]
     },
     "execution_count": 12,
     "metadata": {},
     "output_type": "execute_result"
    }
   ],
   "source": [
    "# Calculate no of days in a given time period using leapyear\n",
    "\n",
    "def noofDays(start,end):\n",
    "    sum = 0\n",
    "    for start in range(start,end+1): \n",
    "        if(checkLeap(start)):\n",
    "            sum += 366\n",
    "        else:\n",
    "            sum += 365\n",
    "    return sum\n",
    "noofDays(2000,2001)"
   ]
  },
  {
   "cell_type": "code",
   "execution_count": 125,
   "metadata": {},
   "outputs": [
    {
     "name": "stdout",
     "output_type": "stream",
     "text": [
      "29\n"
     ]
    },
    {
     "data": {
      "text/plain": [
       "29"
      ]
     },
     "execution_count": 125,
     "metadata": {},
     "output_type": "execute_result"
    }
   ],
   "source": [
    "# Checking the no of days in a month\n",
    "\n",
    "def checkMnth(month,year):            \n",
    "    res = 0\n",
    "    \n",
    "    if((month <=7 and month %2 !=0 and month!=2) or (month>=8 and month %2 == 0)):\n",
    "        res=31\n",
    "    elif((month <=7 and month %2 ==0 and month!=2)or(month>=8 and month %2 !=0)):\n",
    "        res =30\n",
    "    else:\n",
    "        if(checkLeap(year) and month == 2):\n",
    "            res = 29\n",
    "            print(res)\n",
    "        else:\n",
    "            res = 28\n",
    "        \n",
    "    return res"
   ]
  },
  {
   "cell_type": "code",
   "execution_count": 116,
   "metadata": {},
   "outputs": [
    {
     "name": "stdout",
     "output_type": "stream",
     "text": [
      "59\n"
     ]
    },
    {
     "data": {
      "text/plain": [
       "1416"
      ]
     },
     "execution_count": 116,
     "metadata": {},
     "output_type": "execute_result"
    }
   ],
   "source": [
    "\n",
    "def noofDaysBetweenMonthsOfYear(month1,year1,month2,year2):\n",
    "    sumD=0\n",
    "    if(year1 == year2):\n",
    "        for year1 in range(year1,year2+1):\n",
    "            for month1 in range (month1,month2+1):\n",
    "                sumD += checkMnth(month1,year1)\n",
    "      \n",
    "    return sumD\n"
   ]
  },
  {
   "cell_type": "code",
   "execution_count": 128,
   "metadata": {},
   "outputs": [
    {
     "name": "stdout",
     "output_type": "stream",
     "text": [
      "29\n"
     ]
    },
    {
     "data": {
      "text/plain": [
       "2953"
      ]
     },
     "execution_count": 128,
     "metadata": {},
     "output_type": "execute_result"
    }
   ],
   "source": [
    " \n",
    "def noofDays(m1,y1,m2,y2):\n",
    "    total = 0\n",
    "    if((y1+1) == y2 or (y2-1) == y1):\n",
    "        total += noofDaysBetweenMonthsOfYear(m1,y1,12,y1)\n",
    "        total += noofDaysBetweenMonthsOfYear(1,y2,m2,y2)\n",
    "    elif(y1 == y2):\n",
    "        total += noofDaysBetweenMonthsOfYear(m1,y1,m2,y2)\n",
    "    else:\n",
    "        total += noofDaysBetweenMonthsOfYear(m1,y1,12,y1)\n",
    "        total += noofDaysBetweenMonthsOfYear(1,y2,m2,y2)\n",
    "        i = y1+1\n",
    "        j = y2-1\n",
    "        for i in range(i,j+1):\n",
    "            if(checkLeap(i)):\n",
    "                total += 366\n",
    "            else:\n",
    "                total += 365\n",
    "    return total\n",
    "noofDays(12,2012,12,2020)"
   ]
  },
  {
   "cell_type": "code",
   "execution_count": null,
   "metadata": {},
   "outputs": [],
   "source": []
  }
 ],
 "metadata": {
  "kernelspec": {
   "display_name": "Python 3",
   "language": "python",
   "name": "python3"
  },
  "language_info": {
   "codemirror_mode": {
    "name": "ipython",
    "version": 3
   },
   "file_extension": ".py",
   "mimetype": "text/x-python",
   "name": "python",
   "nbconvert_exporter": "python",
   "pygments_lexer": "ipython3",
   "version": "3.7.3"
  }
 },
 "nbformat": 4,
 "nbformat_minor": 2
}
