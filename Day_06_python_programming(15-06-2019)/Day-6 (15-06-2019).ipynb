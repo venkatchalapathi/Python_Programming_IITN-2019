{
 "cells": [
  {
   "cell_type": "markdown",
   "metadata": {},
   "source": [
    "### Day-6:\n",
    "\n"
   ]
  },
  {
   "cell_type": "code",
   "execution_count": 11,
   "metadata": {},
   "outputs": [
    {
     "data": {
      "text/plain": [
       "[1, 2, 3, 4]"
      ]
     },
     "execution_count": 11,
     "metadata": {},
     "output_type": "execute_result"
    }
   ],
   "source": [
    "l = [1,2,3,4]\n",
    "l"
   ]
  },
  {
   "cell_type": "code",
   "execution_count": 6,
   "metadata": {},
   "outputs": [],
   "source": [
    "l.append([4,3,2,1])"
   ]
  },
  {
   "cell_type": "code",
   "execution_count": 9,
   "metadata": {},
   "outputs": [
    {
     "data": {
      "text/plain": [
       "[4, 3, 2, 1]"
      ]
     },
     "execution_count": 9,
     "metadata": {},
     "output_type": "execute_result"
    }
   ],
   "source": [
    "l.pop(8)"
   ]
  },
  {
   "cell_type": "code",
   "execution_count": 10,
   "metadata": {},
   "outputs": [
    {
     "data": {
      "text/plain": [
       "[1, 2, 3, 4, 4, 3, 2, 1]"
      ]
     },
     "execution_count": 10,
     "metadata": {},
     "output_type": "execute_result"
    }
   ],
   "source": [
    "l"
   ]
  },
  {
   "cell_type": "markdown",
   "metadata": {},
   "source": [
    "### Problem in mock test\n",
    "\n",
    "##### Closest to Zero\n",
    "\n",
    "- "
   ]
  },
  {
   "cell_type": "code",
   "execution_count": 45,
   "metadata": {},
   "outputs": [
    {
     "name": "stdout",
     "output_type": "stream",
     "text": [
      "4\n",
      "-1 -1 0 3 \n",
      "3\n"
     ]
    }
   ],
   "source": [
    "n = int(input())\n",
    "s = input()\n",
    "\n",
    "ls = convertToIntList(s)\n",
    "pl = []\n",
    "for i in ls:\n",
    "    pl.append(abs(i))\n",
    "pl.sort()\n",
    "if pl[-1] in ls:\n",
    "    print(pl[-1])\n",
    "else:\n",
    "    print(-pl[-1])\n",
    "    "
   ]
  },
  {
   "cell_type": "code",
   "execution_count": 43,
   "metadata": {},
   "outputs": [],
   "source": [
    "def convertToIntList(s):\n",
    "    ls =s.split()\n",
    "    cl = []\n",
    "    for i in ls:\n",
    "        cl.append(int(i))\n",
    "    return cl      "
   ]
  },
  {
   "cell_type": "code",
   "execution_count": 13,
   "metadata": {},
   "outputs": [
    {
     "data": {
      "text/plain": [
       "[4, 3, 2, 1]"
      ]
     },
     "execution_count": 13,
     "metadata": {},
     "output_type": "execute_result"
    }
   ],
   "source": [
    "l[-1::-1] # reverse sorting order"
   ]
  },
  {
   "cell_type": "code",
   "execution_count": 19,
   "metadata": {},
   "outputs": [],
   "source": [
    "l.append([-2,4,-4,-6])"
   ]
  },
  {
   "cell_type": "code",
   "execution_count": 22,
   "metadata": {},
   "outputs": [
    {
     "data": {
      "text/plain": [
       "[1, 2, 3, 4]"
      ]
     },
     "execution_count": 22,
     "metadata": {},
     "output_type": "execute_result"
    }
   ],
   "source": [
    "l"
   ]
  },
  {
   "cell_type": "code",
   "execution_count": null,
   "metadata": {},
   "outputs": [],
   "source": [
    "l"
   ]
  },
  {
   "cell_type": "markdown",
   "metadata": {},
   "source": [
    "# Problem -3\n",
    " you are given numbers a , b, c.\n",
    " Write a program to find the largest number which is less than or equal to c and leaves remainder \n",
    " b when divided by a or print -1\n",
    "\n",
    "\n"
   ]
  },
  {
   "cell_type": "code",
   "execution_count": 78,
   "metadata": {},
   "outputs": [
    {
     "name": "stdout",
     "output_type": "stream",
     "text": [
      "8\n"
     ]
    }
   ],
   "source": [
    "# Normal Logic\n",
    "a = 3\n",
    "b = 2\n",
    "c = 9\n",
    "for i in range(c,a-1,-1):\n",
    "    if i%a == b:\n",
    "        print(i)\n",
    "        break      \n"
   ]
  },
  {
   "cell_type": "code",
   "execution_count": 66,
   "metadata": {},
   "outputs": [
    {
     "data": {
      "text/plain": [
       "8"
      ]
     },
     "execution_count": 66,
     "metadata": {},
     "output_type": "execute_result"
    }
   ],
   "source": [
    "# Functions\n",
    "def calc3best(a,b,c):\n",
    "    for c in range(c,a-1,-1):\n",
    "        if c%a == b:\n",
    "            return c\n",
    "    return -1\n",
    "calc3best(3,2,9)"
   ]
  },
  {
   "cell_type": "code",
   "execution_count": 143,
   "metadata": {},
   "outputs": [
    {
     "data": {
      "text/plain": [
       "[1, 2, 3, 5, 7]"
      ]
     },
     "execution_count": 143,
     "metadata": {},
     "output_type": "execute_result"
    }
   ],
   "source": [
    "# To Generate n prime numbers\n",
    "def getPrimes(v):\n",
    "    ls = []\n",
    "    for i in range(1,v+1):\n",
    "        if(checkPrime(i)):\n",
    "            ls.append(i)\n",
    "            \n",
    "    return ls\n",
    "getPrimes(10)"
   ]
  },
  {
   "cell_type": "code",
   "execution_count": null,
   "metadata": {},
   "outputs": [],
   "source": []
  },
  {
   "cell_type": "code",
   "execution_count": 4,
   "metadata": {},
   "outputs": [],
   "source": [
    "# Check Prime or not\n",
    "def checkPrime(i):\n",
    "    flag = 0\n",
    "    if(i == 1 or i==2):\n",
    "        return True\n",
    "    else:\n",
    "        for j in range(2,i):\n",
    "            if(i%j == 0):\n",
    "                flag = 1\n",
    "    if flag == 1:\n",
    "        return False\n",
    "    else:\n",
    "        return True"
   ]
  },
  {
   "cell_type": "code",
   "execution_count": 5,
   "metadata": {},
   "outputs": [
    {
     "data": {
      "text/plain": [
       "[1, 2, 3, 5, 7, 11, 13, 17, 19, 23]"
      ]
     },
     "execution_count": 5,
     "metadata": {},
     "output_type": "execute_result"
    }
   ],
   "source": [
    "def getPrimes(n):\n",
    "    ls = []\n",
    "    i = 1\n",
    "    \n",
    "    while(n>0):\n",
    "        if(checkPrime(i)):\n",
    "            ls.append(i)\n",
    "            n = n-1\n",
    "            i = i+1\n",
    "        else:\n",
    "            i = i+1\n",
    "        \n",
    "    return ls\n",
    "getPrimes(10)"
   ]
  },
  {
   "cell_type": "code",
   "execution_count": 132,
   "metadata": {},
   "outputs": [
    {
     "data": {
      "text/plain": [
       "[0, 1, 1, 2, 3, 5]"
      ]
     },
     "execution_count": 132,
     "metadata": {},
     "output_type": "execute_result"
    }
   ],
   "source": [
    "# Generate n Fibonacci series\n",
    "def getFibos(n):\n",
    "    ls = []\n",
    "    temp = 0\n",
    "    a = 0\n",
    "    b = 1\n",
    "    for i in range(1,n+1):\n",
    "        ls.append(a)\n",
    "        temp = a+b\n",
    "        a = b\n",
    "        b = temp\n",
    "    return ls\n",
    "# getFibos(6)\n"
   ]
  },
  {
   "cell_type": "code",
   "execution_count": null,
   "metadata": {},
   "outputs": [],
   "source": [
    "## TA's Tasks Vijay\n",
    "\n",
    "n = int(input())\n",
    "pls = getPrimes(n)\n",
    "fils = getFibos(n)\n",
    "data = generatePrimesAndFibos(pls,fils)\n"
   ]
  },
  {
   "cell_type": "code",
   "execution_count": 88,
   "metadata": {},
   "outputs": [
    {
     "name": "stdout",
     "output_type": "stream",
     "text": [
      "5\n"
     ]
    }
   ],
   "source": [
    "def check(l,r,k):\n",
    "    count = 0\n",
    "    for l in range(l,r+1):\n",
    "        if l%k == 0:\n",
    "            count+=1\n",
    "    return count\n",
    "a = check(1,10,2)\n",
    "print(a)"
   ]
  },
  {
   "cell_type": "code",
   "execution_count": 98,
   "metadata": {},
   "outputs": [
    {
     "name": "stdout",
     "output_type": "stream",
     "text": [
      "1 10 1\n",
      "10\n"
     ]
    }
   ],
   "source": [
    "  \n",
    "def check(l,r,k):\n",
    "    count = 0\n",
    "    for l in range(l,r+1):\n",
    "        if l%k == 0:\n",
    "            count+=1\n",
    "    return count\n",
    "ls = input()\n",
    "ls = ls.split()\n",
    "l = int(ls[0])\n",
    "r = int(ls[1])\n",
    "k = int(ls[2])\n",
    "\n",
    "a = check(l,r,k)\n",
    "print(a)"
   ]
  },
  {
   "cell_type": "code",
   "execution_count": 99,
   "metadata": {},
   "outputs": [
    {
     "name": "stdout",
     "output_type": "stream",
     "text": [
      "2\n",
      "2\n"
     ]
    }
   ],
   "source": [
    "# Finding Factorial number\n",
    "def findFact(n):\n",
    "    count = 1\n",
    "    for i in range(1,n+1):\n",
    "        count *=i\n",
    "    return count\n",
    "n=int(input())\n",
    "print(findFact(n))"
   ]
  },
  {
   "cell_type": "code",
   "execution_count": 125,
   "metadata": {},
   "outputs": [
    {
     "data": {
      "text/plain": [
       "'AbCSE'"
      ]
     },
     "execution_count": 125,
     "metadata": {},
     "output_type": "execute_result"
    }
   ],
   "source": [
    "s = \"aBcse\"\n",
    "ss =s.swapcase()\n",
    "ss"
   ]
  },
  {
   "cell_type": "code",
   "execution_count": null,
   "metadata": {},
   "outputs": [],
   "source": [
    "\n",
    "\n"
   ]
  },
  {
   "cell_type": "code",
   "execution_count": 126,
   "metadata": {},
   "outputs": [
    {
     "name": "stdout",
     "output_type": "stream",
     "text": [
      "asdFgG\n",
      "ASDfGg\n"
     ]
    }
   ],
   "source": [
    "\n",
    "def doToggle(s):\n",
    "    s = s.swapcase()\n",
    "    return s\n",
    "s = input()\n",
    "print(doToggle(s))"
   ]
  },
  {
   "cell_type": "code",
   "execution_count": null,
   "metadata": {},
   "outputs": [],
   "source": [
    "# Task 5: Generating prime numbers in a range\n",
    "\n",
    "def checkPrime(i):\n",
    "    flag = 0\n",
    "    if(i == 1 or i==2):\n",
    "        return True\n",
    "    else:\n",
    "        for j in range(2,i):\n",
    "            if(i%j == 0):\n",
    "                flag = 1\n",
    "    if flag == 1:\n",
    "        return False\n",
    "    else:\n",
    "        return True\n",
    "        \n",
    "def generatePrimes(n):\n",
    "    for j in range(2,n+1):\n",
    "        if(checkPrime(j)):\n",
    "            print(j,end=\" \")\n",
    "\n",
    "n = int(input())\n",
    "generatePrimes(n)"
   ]
  },
  {
   "cell_type": "code",
   "execution_count": 21,
   "metadata": {},
   "outputs": [
    {
     "name": "stdout",
     "output_type": "stream",
     "text": [
      "1   0\n"
     ]
    }
   ],
   "source": [
    "# Duration Problem:\n",
    "def countMin(sh,sm,eh,em):\n",
    "    total = 0\n",
    "    if (sh+1)==eh or (eh-1)==sh:\n",
    "        total = total + (60-sm)+em\n",
    "    elif(sh==eh):\n",
    "        total = em-sm\n",
    "    else:\n",
    "        i = sh+1\n",
    "        j = eh-1\n",
    "        for i in range(i,j+1):\n",
    "            total += 60\n",
    "        \n",
    "    return total\n",
    "        \n",
    "def duration(sh,sm,eh,em):\n",
    "    tot_min = countMin(sh,sm,eh,em)\n",
    "    print(tot_min//60,\" \",tot_min%60)\n",
    "s = input()\n",
    "ls = input()\n",
    "ls = ls.split()\n",
    "l = int(ls[0])\n",
    "r = int(ls[1])\n",
    "k = int(ls[2])\n",
    "duration(2,0,3,0)"
   ]
  },
  {
   "cell_type": "code",
   "execution_count": 47,
   "metadata": {},
   "outputs": [
    {
     "name": "stdout",
     "output_type": "stream",
     "text": [
      "2\n",
      "5 40 8 0\n",
      "3 00 6 50\n",
      "2  20\n",
      "3  50\n"
     ]
    }
   ],
   "source": [
    "def countMin(sh,sm,eh,em):\n",
    "    total = 0\n",
    "    if (sh+1)==eh or (eh-1)==sh:\n",
    "        total = total + (60-sm)+em\n",
    "    elif(sh==eh):\n",
    "        total = em-sm\n",
    "    else:\n",
    "        total = (60-sm)+em\n",
    "        i = sh+1\n",
    "        j = eh\n",
    "        for i in range(i,j):\n",
    "            total += 60\n",
    "        \n",
    "    return total\n",
    "        \n",
    "def duration(sh,sm,eh,em):\n",
    "    tot_min = countMin(sh,sm,eh,em)\n",
    "    hours = tot_min//60\n",
    "    mint = tot_min%60\n",
    "    print(hours,\"\",mint)\n",
    "    \n",
    "n = int(input())\n",
    "lst=[]\n",
    "for i in range(1,n+1):\n",
    "    s = input()\n",
    "    lst.append(s)\n",
    "def cal(lst):\n",
    "    for i in range(0,len(lst)):\n",
    "        temp = lst[i].split()\n",
    "        sh = int(temp[0])\n",
    "        sm = int(temp[1])\n",
    "        eh = int(temp[2])\n",
    "        em = int(temp[3])\n",
    "        duration(sh,sm,eh,em)\n",
    "cal(lst)"
   ]
  },
  {
   "cell_type": "code",
   "execution_count": 38,
   "metadata": {},
   "outputs": [
    {
     "data": {
      "text/plain": [
       "2"
      ]
     },
     "execution_count": 38,
     "metadata": {},
     "output_type": "execute_result"
    }
   ],
   "source": [
    "i=0\n",
    "ad = lst[i].split()\n",
    "a = int(ad[0])\n",
    "a"
   ]
  },
  {
   "cell_type": "code",
   "execution_count": null,
   "metadata": {},
   "outputs": [],
   "source": []
  }
 ],
 "metadata": {
  "kernelspec": {
   "display_name": "Python 3",
   "language": "python",
   "name": "python3"
  },
  "language_info": {
   "codemirror_mode": {
    "name": "ipython",
    "version": 3
   },
   "file_extension": ".py",
   "mimetype": "text/x-python",
   "name": "python",
   "nbconvert_exporter": "python",
   "pygments_lexer": "ipython3",
   "version": "3.7.3"
  }
 },
 "nbformat": 4,
 "nbformat_minor": 2
}
