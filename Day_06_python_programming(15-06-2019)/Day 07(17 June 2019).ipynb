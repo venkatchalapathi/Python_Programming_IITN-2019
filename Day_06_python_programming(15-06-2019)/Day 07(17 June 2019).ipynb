{
 "cells": [
  {
   "cell_type": "markdown",
   "metadata": {},
   "source": [
    "### Day 7 Practice"
   ]
  },
  {
   "cell_type": "code",
   "execution_count": 12,
   "metadata": {},
   "outputs": [
    {
     "data": {
      "text/plain": [
       "False"
      ]
     },
     "execution_count": 12,
     "metadata": {},
     "output_type": "execute_result"
    }
   ],
   "source": [
    "s = \"abB\"\n",
    "s.islower() "
   ]
  },
  {
   "cell_type": "code",
   "execution_count": 13,
   "metadata": {},
   "outputs": [
    {
     "data": {
      "text/plain": [
       "['a', 'b', 'B']"
      ]
     },
     "execution_count": 13,
     "metadata": {},
     "output_type": "execute_result"
    }
   ],
   "source": [
    "s.isupper()\n",
    "ls = list(s)\n",
    "ls"
   ]
  },
  {
   "cell_type": "code",
   "execution_count": 20,
   "metadata": {},
   "outputs": [
    {
     "name": "stdout",
     "output_type": "stream",
     "text": [
      "avcdDeFS\n"
     ]
    },
    {
     "data": {
      "text/plain": [
       "'AVCDdEfs'"
      ]
     },
     "execution_count": 20,
     "metadata": {},
     "output_type": "execute_result"
    }
   ],
   "source": [
    "# Toggle String Problem Alternate solution\n",
    "s = input()\n",
    "def toggleStr(s):\n",
    "    # Converts the string into a list of char\n",
    "    s = list(s)\n",
    "    t = []\n",
    "    for c in s:\n",
    "        if c.islower():\n",
    "            t.append(c.upper())\n",
    "        else:\n",
    "            t.append(c.lower())\n",
    "    return \"\".join(t)\n",
    "toggleStr(s)"
   ]
  },
  {
   "cell_type": "code",
   "execution_count": 24,
   "metadata": {},
   "outputs": [
    {
     "name": "stdout",
     "output_type": "stream",
     "text": [
      "2\n",
      "33\n",
      "4\n"
     ]
    },
    {
     "data": {
      "text/plain": [
       "33"
      ]
     },
     "execution_count": 24,
     "metadata": {},
     "output_type": "execute_result"
    }
   ],
   "source": [
    "n = int(input())\n",
    "ls=[]\n",
    "for i in range(1,n+1):\n",
    "    ls.append(int(input()))\n",
    "ls[0]"
   ]
  },
  {
   "cell_type": "code",
   "execution_count": 29,
   "metadata": {},
   "outputs": [
    {
     "name": "stdout",
     "output_type": "stream",
     "text": [
      "2\n",
      "19\n",
      "45\n",
      "MS\n",
      "MS\n"
     ]
    }
   ],
   "source": [
    "def checkSeat(a):\n",
    "    if(a == 1 or a%6 == 0 or a/6 == 1):\n",
    "        return \"WS\"\n",
    "    elif(a == 3 or a == 4 or (a/3 == 0 and a%4 == 1) or (a%3 == 1 and a%4 == 2) or (a%3 == 1 and a%4 == 0)):\n",
    "        return \"AS\"\n",
    "    else:\n",
    "        return \"MS\"\n",
    "n = int(input())\n",
    "ls = []\n",
    "for i in range(1,n+1):\n",
    "    ls.append(int(input()))\n",
    "for j in range(0,len(ls)):\n",
    "    print(checkSeat(ls[j]))\n"
   ]
  },
  {
   "cell_type": "code",
   "execution_count": 34,
   "metadata": {},
   "outputs": [
    {
     "data": {
      "text/plain": [
       "True"
      ]
     },
     "execution_count": 34,
     "metadata": {},
     "output_type": "execute_result"
    }
   ],
   "source": [
    "12/6 == 2"
   ]
  },
  {
   "cell_type": "code",
   "execution_count": 1,
   "metadata": {},
   "outputs": [
    {
     "name": "stdout",
     "output_type": "stream",
     "text": [
      "6\n",
      "2 3 5 "
     ]
    }
   ],
   "source": [
    "# Prime Numbers\n",
    "\n",
    "def checkPrime(i):\n",
    "    flag = 0\n",
    "    if(i == 1 or i==2):\n",
    "        return True\n",
    "    else:\n",
    "        for j in range(2,i):\n",
    "            if(i%j == 0):\n",
    "                flag = 1\n",
    "    if flag == 1:\n",
    "        return False\n",
    "    else:\n",
    "        return True\n",
    "        \n",
    "def generatePrimes(n):\n",
    "    for j in range(2,n+1):\n",
    "        if(checkPrime(j)):\n",
    "            print(j,end=\" \")\n",
    "\n",
    "n = int(input())\n",
    "generatePrimes(n)"
   ]
  },
  {
   "cell_type": "code",
   "execution_count": 2,
   "metadata": {},
   "outputs": [
    {
     "name": "stdout",
     "output_type": "stream",
     "text": [
      "amma\n",
      "YES\n"
     ]
    }
   ],
   "source": [
    "# Palindrome\n",
    "\n",
    "def checkPal(s):\n",
    "    temp = s\n",
    "    if temp == s[-1::-1]:\n",
    "        print(\"YES\")\n",
    "    else:\n",
    "        print(\"NO\")\n",
    "s = input()\n",
    "checkPal(s)"
   ]
  },
  {
   "cell_type": "code",
   "execution_count": 4,
   "metadata": {},
   "outputs": [
    {
     "name": "stdout",
     "output_type": "stream",
     "text": [
      "1 2 2\n",
      "1\n"
     ]
    }
   ],
   "source": [
    "# Count Divisiors\n",
    "\n",
    "def check(l,r,k):\n",
    "    count = 0\n",
    "    for l in range(l,r+1):\n",
    "        if l%k == 0:\n",
    "            count+=1\n",
    "    return count\n",
    "ls = input()\n",
    "ls = ls.split()\n",
    "l = int(ls[0])\n",
    "r = int(ls[1])\n",
    "k = int(ls[2])\n",
    "\n",
    "a = check(l,r,k)\n",
    "print(a)"
   ]
  },
  {
   "cell_type": "code",
   "execution_count": 6,
   "metadata": {},
   "outputs": [
    {
     "name": "stdout",
     "output_type": "stream",
     "text": [
      "1\n",
      "2 30 5 50\n",
      "3 20\n"
     ]
    }
   ],
   "source": [
    "# Duration Problem\n",
    "def countMin(sh,sm,eh,em):\n",
    "    total = 0\n",
    "    if (sh+1)==eh or (eh-1)==sh:\n",
    "        total = total + (60-sm)+em\n",
    "    elif(sh==eh):\n",
    "        total = em-sm\n",
    "    else:\n",
    "        total = (60-sm)+em\n",
    "        i = sh+1\n",
    "        j = eh\n",
    "        for i in range(i,j):\n",
    "            total += 60\n",
    "        \n",
    "    return total\n",
    "        \n",
    "def duration(sh,sm,eh,em):\n",
    "    tot_min = countMin(sh,sm,eh,em)\n",
    "    hours = tot_min//60\n",
    "    mint = tot_min%60\n",
    "    print(hours,end=\" \")\n",
    "    print(mint)\n",
    "    \n",
    "n = int(input())\n",
    "lst=[]\n",
    "for i in range(1,n+1):\n",
    "    s = input()\n",
    "    lst.append(s)\n",
    "def cal(lst):\n",
    "    for i in range(0,len(lst)):\n",
    "        temp = lst[i].split()\n",
    "        sh = int(temp[0])\n",
    "        sm = int(temp[1])\n",
    "        eh = int(temp[2])\n",
    "        em = int(temp[3])\n",
    "        duration(sh,sm,eh,em)\n",
    "cal(lst)"
   ]
  },
  {
   "cell_type": "code",
   "execution_count": null,
   "metadata": {},
   "outputs": [],
   "source": []
  }
 ],
 "metadata": {
  "kernelspec": {
   "display_name": "Python 3",
   "language": "python",
   "name": "python3"
  },
  "language_info": {
   "codemirror_mode": {
    "name": "ipython",
    "version": 3
   },
   "file_extension": ".py",
   "mimetype": "text/x-python",
   "name": "python",
   "nbconvert_exporter": "python",
   "pygments_lexer": "ipython3",
   "version": "3.7.3"
  }
 },
 "nbformat": 4,
 "nbformat_minor": 2
}
