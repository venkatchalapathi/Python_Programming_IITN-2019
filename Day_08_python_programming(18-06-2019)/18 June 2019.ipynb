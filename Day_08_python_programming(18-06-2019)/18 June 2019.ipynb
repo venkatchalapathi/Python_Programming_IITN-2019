{
 "cells": [
  {
   "cell_type": "code",
   "execution_count": 24,
   "metadata": {},
   "outputs": [
    {
     "name": "stdout",
     "output_type": "stream",
     "text": [
      "2\n",
      "2\n",
      "6\n",
      "30\n",
      "YES\n",
      "YES\n"
     ]
    }
   ],
   "source": [
    "# Prime Factors\n",
    "## Special numbers\n",
    "\n",
    "def checkPrime(sn):\n",
    "    flag = 0\n",
    "    if(sn==2):\n",
    "        return True\n",
    "    else:\n",
    "        for i in range(2,sn):\n",
    "            if(sn%i==0):\n",
    "                flag = 1\n",
    "                break\n",
    "    if(flag == 1):\n",
    "        return False\n",
    "    else:\n",
    "        return True\n",
    "    \n",
    "\n",
    "def primeFactorsList(num):\n",
    "    ls=[]\n",
    "    for i in range(2,num+1):\n",
    "        if(num%i == 0):\n",
    "            if(checkPrime(i)):\n",
    "                ls.append(i)\n",
    "    # print(ls)\n",
    "    return len(ls)\n",
    "def isSpecialNumber(n,p):\n",
    "    if(primeFactorsList(n)>=p):\n",
    "        return True\n",
    "    else:\n",
    "        return False\n",
    "n = int(input())\n",
    "p = int(input())\n",
    "ls = []\n",
    "for i in range(1,n+1):\n",
    "    ls.append(int(input()))\n",
    "for j in range(0,len(ls)):\n",
    "    if(isSpecialNumber(ls[j],p)):\n",
    "        print(\"YES\")\n",
    "    else:\n",
    "        print(\"NO\")\n",
    "    \n",
    "    "
   ]
  },
  {
   "cell_type": "code",
   "execution_count": 7,
   "metadata": {},
   "outputs": [
    {
     "data": {
      "text/plain": [
       "[19, 20]"
      ]
     },
     "execution_count": 7,
     "metadata": {},
     "output_type": "execute_result"
    }
   ],
   "source": [
    "ls = []\n",
    "ls.append(19)\n",
    "ls.append(20)\n",
    "ls"
   ]
  },
  {
   "cell_type": "code",
   "execution_count": 29,
   "metadata": {},
   "outputs": [
    {
     "name": "stdout",
     "output_type": "stream",
     "text": [
      "1\n",
      "31\n",
      "WS\n"
     ]
    }
   ],
   "source": [
    "def checkSeat(a):\n",
    "    if(a == 1 or a%6 == 0 or a%6 == 1 or a%12==0 or a%12==1):\n",
    "        return \"WS\"\n",
    "    elif(a == 3 or a == 4 or (a/3 == 0 and a%4 == 1) or (a%3 == 1 and a%4 == 2) or (a%3 == 1 and a%4 == 0)):\n",
    "        return \"AS\"\n",
    "    else:\n",
    "        return \"MS\"\n",
    "n = int(input())\n",
    "ls = []\n",
    "for i in range(1,n+1):\n",
    "    ls.append(int(input()))\n",
    "for j in range(0,len(ls)):\n",
    "    print(checkSeat(ls[j]))"
   ]
  },
  {
   "cell_type": "markdown",
   "metadata": {},
   "source": [
    "### Vijay's Task"
   ]
  },
  {
   "cell_type": "code",
   "execution_count": 35,
   "metadata": {},
   "outputs": [
    {
     "name": "stdout",
     "output_type": "stream",
     "text": [
      "3 2\n"
     ]
    }
   ],
   "source": [
    "l = input()\n",
    "l = l.split()\n",
    "l = l.sort()\n",
    "l"
   ]
  },
  {
   "cell_type": "markdown",
   "metadata": {},
   "source": [
    "# Tuples\n",
    "\n",
    "Differences Between Lists and Tuples\n",
    "denoted by ()\n",
    "Lists are mutable\n",
    "tuples are immutable\n"
   ]
  },
  {
   "cell_type": "code",
   "execution_count": 48,
   "metadata": {},
   "outputs": [
    {
     "data": {
      "text/plain": [
       "(2, 3, 4)"
      ]
     },
     "execution_count": 48,
     "metadata": {},
     "output_type": "execute_result"
    }
   ],
   "source": [
    "t1 = (1,2,3,4,5,6,6)\n",
    "t1[::-1] # reverse the tuple\n",
    "t1[4] #accessing the fourth element\n",
    "t1[1:4] #Accessing the 1 to 4th element\n"
   ]
  },
  {
   "cell_type": "code",
   "execution_count": 49,
   "metadata": {},
   "outputs": [
    {
     "data": {
      "text/plain": [
       "(4, 5, 6, 6)"
      ]
     },
     "execution_count": 49,
     "metadata": {},
     "output_type": "execute_result"
    }
   ],
   "source": [
    "t1[len(t1)//2::]"
   ]
  },
  {
   "cell_type": "code",
   "execution_count": 50,
   "metadata": {},
   "outputs": [],
   "source": [
    "d1 = {\"key1\":\"value1\",\"key2\":\"value2\"}"
   ]
  },
  {
   "cell_type": "code",
   "execution_count": 51,
   "metadata": {},
   "outputs": [
    {
     "data": {
      "text/plain": [
       "'value1'"
      ]
     },
     "execution_count": 51,
     "metadata": {},
     "output_type": "execute_result"
    }
   ],
   "source": [
    "d1[\"key1\"]"
   ]
  },
  {
   "cell_type": "code",
   "execution_count": 52,
   "metadata": {},
   "outputs": [
    {
     "data": {
      "text/plain": [
       "dict_keys(['key1', 'key2'])"
      ]
     },
     "execution_count": 52,
     "metadata": {},
     "output_type": "execute_result"
    }
   ],
   "source": [
    "d1.keys()"
   ]
  },
  {
   "cell_type": "code",
   "execution_count": 53,
   "metadata": {},
   "outputs": [
    {
     "data": {
      "text/plain": [
       "dict_values(['value1', 'value2'])"
      ]
     },
     "execution_count": 53,
     "metadata": {},
     "output_type": "execute_result"
    }
   ],
   "source": [
    "d1.values()"
   ]
  },
  {
   "cell_type": "code",
   "execution_count": 54,
   "metadata": {},
   "outputs": [
    {
     "data": {
      "text/plain": [
       "dict_items([('key1', 'value1'), ('key2', 'value2')])"
      ]
     },
     "execution_count": 54,
     "metadata": {},
     "output_type": "execute_result"
    }
   ],
   "source": [
    "d1.items()"
   ]
  },
  {
   "cell_type": "code",
   "execution_count": 55,
   "metadata": {},
   "outputs": [],
   "source": [
    "d1[\"key1\"]=\"HAI\" # Adding an element to the dictionary"
   ]
  },
  {
   "cell_type": "code",
   "execution_count": 56,
   "metadata": {},
   "outputs": [
    {
     "data": {
      "text/plain": [
       "{'key1': 'HAI', 'key2': 'value2'}"
      ]
     },
     "execution_count": 56,
     "metadata": {},
     "output_type": "execute_result"
    }
   ],
   "source": [
    "d1"
   ]
  },
  {
   "cell_type": "markdown",
   "metadata": {},
   "source": [
    "## Contacts Application:\n",
    "\n",
    "- Add Contact\n",
    "- Search For a Contact\n",
    "- List all contacts\n",
    "- Modify contact\n",
    "- Remove Contact\n"
   ]
  },
  {
   "cell_type": "code",
   "execution_count": 78,
   "metadata": {},
   "outputs": [],
   "source": [
    "contacts = {}\n",
    "def addContacts(name,number):\n",
    "    if name in contacts:\n",
    "        print(\"Name already exists\")\n",
    "    else:\n",
    "        contacts[name] = number\n",
    "    return\n",
    "addContacts(\"venkat\",\"9492043600\")\n",
    "        "
   ]
  },
  {
   "cell_type": "code",
   "execution_count": 79,
   "metadata": {},
   "outputs": [
    {
     "data": {
      "text/plain": [
       "{'venkat': '9492043600'}"
      ]
     },
     "execution_count": 79,
     "metadata": {},
     "output_type": "execute_result"
    }
   ],
   "source": [
    "contacts"
   ]
  },
  {
   "cell_type": "code",
   "execution_count": 80,
   "metadata": {},
   "outputs": [],
   "source": [
    "addContacts(\"venkata\",\"9515958193\")"
   ]
  },
  {
   "cell_type": "code",
   "execution_count": 72,
   "metadata": {},
   "outputs": [
    {
     "name": "stdout",
     "output_type": "stream",
     "text": [
      "venkat : 9492043600\n"
     ]
    }
   ],
   "source": [
    "# Searching the Contacts\n",
    "def searchForContact(name):\n",
    "    if name in contacts:\n",
    "        print(name,\":\",contacts[name])\n",
    "    else:\n",
    "        print(\"Name not Exists\")\n",
    "searchForContact(\"venkat\")"
   ]
  },
  {
   "cell_type": "code",
   "execution_count": 6,
   "metadata": {},
   "outputs": [
    {
     "ename": "NameError",
     "evalue": "name 'contacts' is not defined",
     "output_type": "error",
     "traceback": [
      "\u001b[1;31m---------------------------------------------------------------------------\u001b[0m",
      "\u001b[1;31mNameError\u001b[0m                                 Traceback (most recent call last)",
      "\u001b[1;32m<ipython-input-6-4335b55f70e9>\u001b[0m in \u001b[0;36m<module>\u001b[1;34m\u001b[0m\n\u001b[0;32m      5\u001b[0m         \u001b[0mprint\u001b[0m\u001b[1;33m(\u001b[0m\u001b[0mcontacts\u001b[0m\u001b[1;33m)\u001b[0m\u001b[1;33m\u001b[0m\u001b[1;33m\u001b[0m\u001b[0m\n\u001b[0;32m      6\u001b[0m     \u001b[1;32mreturn\u001b[0m\u001b[1;33m\u001b[0m\u001b[1;33m\u001b[0m\u001b[0m\n\u001b[1;32m----> 7\u001b[1;33m \u001b[0mlistContacts\u001b[0m\u001b[1;33m(\u001b[0m\u001b[0mcontacts\u001b[0m\u001b[1;33m)\u001b[0m\u001b[1;33m\u001b[0m\u001b[1;33m\u001b[0m\u001b[0m\n\u001b[0m",
      "\u001b[1;31mNameError\u001b[0m: name 'contacts' is not defined"
     ]
    }
   ],
   "source": [
    "## List all Contacts\n",
    "\n",
    "def listContacts(contacts):\n",
    "    for i in contacts:\n",
    "        print(contacts)\n",
    "    return\n",
    "listContacts(contacts)"
   ]
  },
  {
   "cell_type": "code",
   "execution_count": 98,
   "metadata": {},
   "outputs": [],
   "source": [
    "keys = contacts.keys()\n"
   ]
  },
  {
   "cell_type": "code",
   "execution_count": 99,
   "metadata": {},
   "outputs": [
    {
     "name": "stdout",
     "output_type": "stream",
     "text": [
      "2 Contact Added\n"
     ]
    }
   ],
   "source": [
    "## New Contacts is given as a dictionary\n",
    "def importContact(newContact):\n",
    "    contacts.update(newContact)\n",
    "    print(len(newContact.keys()),\"Contact Added\")\n",
    "    return\n",
    "newContact = {\"value\":12345,\"vas\":65432}\n",
    "importContact(newContact)"
   ]
  },
  {
   "cell_type": "code",
   "execution_count": 100,
   "metadata": {},
   "outputs": [
    {
     "data": {
      "text/plain": [
       "{'venkat': '9492043600', 'venkata': '9515958193', 'value': 12345, 'vas': 65432}"
      ]
     },
     "execution_count": 100,
     "metadata": {},
     "output_type": "execute_result"
    }
   ],
   "source": [
    "contacts"
   ]
  },
  {
   "cell_type": "code",
   "execution_count": 104,
   "metadata": {},
   "outputs": [
    {
     "data": {
      "text/plain": [
       "dict_keys(['venkat', 'venkata', 'value', 'vas'])"
      ]
     },
     "execution_count": 104,
     "metadata": {},
     "output_type": "execute_result"
    }
   ],
   "source": [
    "keys = contacts.keys()\n"
   ]
  },
  {
   "cell_type": "code",
   "execution_count": 106,
   "metadata": {},
   "outputs": [
    {
     "name": "stdout",
     "output_type": "stream",
     "text": [
      "{'venkat': '9492043600', 'venkata': '9515958193', 'value': 12345, 'vas': 65432}\n"
     ]
    }
   ],
   "source": [
    "print(contacts)"
   ]
  },
  {
   "cell_type": "code",
   "execution_count": 15,
   "metadata": {},
   "outputs": [
    {
     "data": {
      "text/plain": [
       "124"
      ]
     },
     "execution_count": 15,
     "metadata": {},
     "output_type": "execute_result"
    }
   ],
   "source": [
    "import math   # importing math functions\n",
    "\n",
    "math.floor(123.432)\n",
    "math.ceil(123.432)\n"
   ]
  },
  {
   "cell_type": "code",
   "execution_count": 19,
   "metadata": {},
   "outputs": [
    {
     "data": {
      "text/plain": [
       "9.42477796076938"
      ]
     },
     "execution_count": 19,
     "metadata": {},
     "output_type": "execute_result"
    }
   ],
   "source": [
    "math.pi * 3"
   ]
  },
  {
   "cell_type": "code",
   "execution_count": 25,
   "metadata": {},
   "outputs": [
    {
     "data": {
      "text/plain": [
       "124"
      ]
     },
     "execution_count": 25,
     "metadata": {},
     "output_type": "execute_result"
    }
   ],
   "source": [
    "from math import floor,ceil,pi# Importing a particular functions\n",
    "pi\n",
    "ceil(123.4343)"
   ]
  },
  {
   "cell_type": "markdown",
   "metadata": {},
   "source": [
    "## Renaming predefined functions\n"
   ]
  },
  {
   "cell_type": "code",
   "execution_count": 26,
   "metadata": {},
   "outputs": [
    {
     "data": {
      "text/plain": [
       "12"
      ]
     },
     "execution_count": 26,
     "metadata": {},
     "output_type": "execute_result"
    }
   ],
   "source": [
    "from math import floor as gopal\n",
    "gopal(12.2321)"
   ]
  },
  {
   "cell_type": "code",
   "execution_count": 44,
   "metadata": {},
   "outputs": [
    {
     "name": "stdout",
     "output_type": "stream",
     "text": [
      "77 48 22 27 23 87 21 31 71 38 80 46 64 21 26 68 29 16 52 35 14 57 98 74 74 60 81 76 58 23 38 90 59 11 47 88 58 5 53 91 99 80 84 94 13 68 11 41 50 59 54 26 41 18 53 23 39 94 19 57 64 13 53 17 13 53 54 90 22 88 48 36 64 93 85 74 47 96 5 76 62 68 81 36 42 50 29 75 58 6 100 90 16 97 18 68 92 46 60 71 "
     ]
    }
   ],
   "source": [
    "# Define a function to generate n random numbers\n",
    "\n",
    "import random\n",
    "\n",
    "def generateNrandomNumbers(n):\n",
    "    for i in range(0,100):\n",
    "        print(random.randrange(1,n+1),end=\" \")\n",
    "generateNrandomNumbers(100)\n",
    "\n"
   ]
  },
  {
   "cell_type": "code",
   "execution_count": 47,
   "metadata": {},
   "outputs": [
    {
     "name": "stdout",
     "output_type": "stream",
     "text": [
      "9 37 11 89 53 17 8 45 78 114 23 60 82 1 75 35 113 63 56 111 59 119 102 31 59 9 93 1 92 11 22 54 13 80 120 45 73 39 103 93 54 30 4 17 34 77 81 9 108 6 45 10 91 21 62 46 72 28 41 17 88 46 97 79 51 98 103 31 73 91 99 13 42 49 45 71 84 9 109 8 111 8 19 25 80 39 47 85 48 50 53 56 120 26 109 101 109 53 92 78 "
     ]
    }
   ],
   "source": [
    "\n",
    "from random import randrange as gopal\n",
    "\n",
    "def generateNrandomNumbers(n):\n",
    "    for i in range(0,100):\n",
    "        print(gopal(1,n+1),end=\" \")\n",
    "generateNrandomNumbers(123)"
   ]
  },
  {
   "cell_type": "code",
   "execution_count": 2,
   "metadata": {},
   "outputs": [
    {
     "data": {
      "text/plain": [
       "False"
      ]
     },
     "execution_count": 2,
     "metadata": {},
     "output_type": "execute_result"
    }
   ],
   "source": [
    "import numerical\n",
    "\n",
    "numerical.checkPrime(6)"
   ]
  },
  {
   "cell_type": "code",
   "execution_count": 3,
   "metadata": {},
   "outputs": [
    {
     "data": {
      "text/plain": [
       "False"
      ]
     },
     "execution_count": 3,
     "metadata": {},
     "output_type": "execute_result"
    }
   ],
   "source": [
    "numerical.checkPrime(9)"
   ]
  },
  {
   "cell_type": "code",
   "execution_count": 4,
   "metadata": {},
   "outputs": [
    {
     "data": {
      "text/plain": [
       "True"
      ]
     },
     "execution_count": 4,
     "metadata": {},
     "output_type": "execute_result"
    }
   ],
   "source": [
    "numerical.isSpecialNumber(6,2)"
   ]
  },
  {
   "cell_type": "code",
   "execution_count": 7,
   "metadata": {},
   "outputs": [
    {
     "name": "stdout",
     "output_type": "stream",
     "text": [
      "YES\n"
     ]
    }
   ],
   "source": [
    "if(numerical.isSpecialNumber(6,2)):\n",
    "    print(\"YES\")\n",
    "else:\n",
    "    print(\"NO\")"
   ]
  },
  {
   "cell_type": "code",
   "execution_count": 12,
   "metadata": {},
   "outputs": [
    {
     "name": "stdout",
     "output_type": "stream",
     "text": [
      "1\n",
      "73\n",
      "WS\n"
     ]
    }
   ],
   "source": [
    "def checkSeat(a):\n",
    "    if(a == 1 or a%6 == 0 or a%6 == 1):\n",
    "        return \"WS\"\n",
    "    elif(a == 3 or a == 4 or (a%3 == 0 and a%4 == 1) or (a%3 == 1 and a%4 == 2) or (a%3 == 1 and a%4 == 0)):\n",
    "        return \"AS\"\n",
    "    else:\n",
    "        return \"MS\"\n",
    "n = int(input())\n",
    "ls = []\n",
    "for i in range(1,n+1):\n",
    "    ls.append(int(input()))\n",
    "for j in range(0,len(ls)):\n",
    "    print(checkSeat(ls[j]))"
   ]
  },
  {
   "cell_type": "markdown",
   "metadata": {},
   "source": [
    "### "
   ]
  }
 ],
 "metadata": {
  "kernelspec": {
   "display_name": "Python 3",
   "language": "python",
   "name": "python3"
  },
  "language_info": {
   "codemirror_mode": {
    "name": "ipython",
    "version": 3
   },
   "file_extension": ".py",
   "mimetype": "text/x-python",
   "name": "python",
   "nbconvert_exporter": "python",
   "pygments_lexer": "ipython3",
   "version": "3.7.3"
  }
 },
 "nbformat": 4,
 "nbformat_minor": 2
}
