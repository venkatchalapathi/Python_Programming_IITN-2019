{
 "cells": [
  {
   "cell_type": "code",
   "execution_count": 1,
   "metadata": {},
   "outputs": [
    {
     "data": {
      "text/plain": [
       "[]"
      ]
     },
     "execution_count": 1,
     "metadata": {},
     "output_type": "execute_result"
    }
   ],
   "source": [
    "# Prime Factors\n",
    "## Special numbers\n",
    "\n",
    "def checkPrime(sn):\n",
    "    flag = 0\n",
    "    for i in range(2,sn+1):\n",
    "        if(sn%i==0):\n",
    "            flag = 1\n",
    "    if(flag == 1):\n",
    "        return False\n",
    "    else:\n",
    "        return True\n",
    "\n",
    "def primeFactorsList(num):\n",
    "    ls=[]\n",
    "    for i in range(2,num+1):\n",
    "        if(num%i == 0):\n",
    "            if(checkPrime(i)):\n",
    "                ls.append(i)\n",
    "    return ls\n",
    "primeFactorsList(6)"
   ]
  },
  {
   "cell_type": "code",
   "execution_count": 3,
   "metadata": {},
   "outputs": [
    {
     "name": "stdout",
     "output_type": "stream",
     "text": [
      "C:\\Users\\Venky\\Python_Programming_IITN-2019\n"
     ]
    }
   ],
   "source": [
    "cd .."
   ]
  },
  {
   "cell_type": "code",
   "execution_count": null,
   "metadata": {},
   "outputs": [],
   "source": []
  }
 ],
 "metadata": {
  "kernelspec": {
   "display_name": "Python 3",
   "language": "python",
   "name": "python3"
  },
  "language_info": {
   "codemirror_mode": {
    "name": "ipython",
    "version": 3
   },
   "file_extension": ".py",
   "mimetype": "text/x-python",
   "name": "python",
   "nbconvert_exporter": "python",
   "pygments_lexer": "ipython3",
   "version": "3.7.3"
  }
 },
 "nbformat": 4,
 "nbformat_minor": 2
}
