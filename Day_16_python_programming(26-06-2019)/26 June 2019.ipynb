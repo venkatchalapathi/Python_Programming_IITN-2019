{
 "cells": [
  {
   "cell_type": "code",
   "execution_count": null,
   "metadata": {},
   "outputs": [],
   "source": [
    "# Largest number in a list\n",
    "# Second largest number\n",
    "# Kth largest number in a list\n",
    "\n",
    "# Element with highest freq\n",
    "# Second highest freq\n",
    "# kth highest freq\n"
   ]
  },
  {
   "cell_type": "code",
   "execution_count": 3,
   "metadata": {},
   "outputs": [
    {
     "name": "stdout",
     "output_type": "stream",
     "text": [
      "35\n"
     ]
    }
   ],
   "source": [
    "# Practice\n",
    "def large(ls,n):\n",
    "    length = len(ls)\n",
    "    ls.sort()\n",
    "    print(ls[length-n])\n",
    "large([23,3,46,35,16],2)"
   ]
  },
  {
   "cell_type": "code",
   "execution_count": 42,
   "metadata": {},
   "outputs": [
    {
     "name": "stdout",
     "output_type": "stream",
     "text": [
      "-1\n"
     ]
    }
   ],
   "source": [
    "def large2(ls,n):\n",
    "    ls.sort()\n",
    "    print(\"-1\") if n>len(ls) else print(ls[len(ls)-n]) \n",
    "large2([23,43,555,3,23],6)"
   ]
  },
  {
   "cell_type": "code",
   "execution_count": 43,
   "metadata": {},
   "outputs": [
    {
     "name": "stdout",
     "output_type": "stream",
     "text": [
      "6\n"
     ]
    }
   ],
   "source": [
    "# function to find the second largest number\n",
    "# To Extract unique data in a list the Time complexity is O(n)\n",
    "def secondLarge(ls):\n",
    "    unique = []\n",
    "    for n in ls:\n",
    "        if n not in unique:\n",
    "            unique.append(n)\n",
    "            \n",
    "    unique = sorted(unique,reverse=True)\n",
    "    print(unique[1])\n",
    "secondLarge([2,35,6,4,2,2])"
   ]
  },
  {
   "cell_type": "code",
   "execution_count": 19,
   "metadata": {},
   "outputs": [
    {
     "name": "stdout",
     "output_type": "stream",
     "text": [
      "3\n"
     ]
    }
   ],
   "source": [
    "# Fifth smallest number\n",
    "def fifthLeast(ls):\n",
    "    unique = []\n",
    "    for n in ls:\n",
    "        if n not in unique:\n",
    "            unique.append(n)\n",
    "    unique = sorted(unique,reverse=True)\n",
    "    if len(unique)<5:\n",
    "        print(\"-1\")\n",
    "    else:\n",
    "        print(unique[4])\n",
    "fifthLeast([23,43,555,3,23,33])"
   ]
  },
  {
   "cell_type": "code",
   "execution_count": 62,
   "metadata": {},
   "outputs": [],
   "source": [
    "# Kth smallest number\n",
    "def kthlargest(ls,n):\n",
    "    unique = []\n",
    "    for n in ls:\n",
    "        if n not in unique:\n",
    "            unique.append(n)\n",
    "            \n",
    "    unique = sorted(unique,reverse=True)\n",
    "    print(\"-1\") if len(unique)<n else print(unique[n])\n",
    "    print(unique[n])\n"
   ]
  },
  {
   "cell_type": "code",
   "execution_count": 1,
   "metadata": {},
   "outputs": [
    {
     "name": "stdout",
     "output_type": "stream",
     "text": [
      "dict_values([2, 1, 3, 3])\n",
      "3\n"
     ]
    },
    {
     "data": {
      "text/plain": [
       "3"
      ]
     },
     "execution_count": 1,
     "metadata": {},
     "output_type": "execute_result"
    }
   ],
   "source": [
    "# Function to identify the element with high frequency\n",
    "# sample o/p: freqhigh([1,3,4,3,4,5,1,6,1])->1\n",
    "def freqHigh(ls):\n",
    "    unique = []\n",
    "    for n in ls:\n",
    "        if n not in unique:\n",
    "            unique.append(n)\n",
    "    ds = {}\n",
    "    for n in unique:\n",
    "        count=0\n",
    "        for i in range(0,len(ls)):\n",
    "            if n==ls[i]:\n",
    "                count+=1\n",
    "        ds[n] = count\n",
    "    print(ds.values())\n",
    "    m = max(ds.values())\n",
    "    print(m)\n",
    "    freqMax = []\n",
    "    for item in ds.items():\n",
    "        if(item[1]==m):\n",
    "            freqMax.append(item[0])\n",
    "    return min(freqMax)\n",
    "        \n",
    "    #ds.items()\n",
    "freqHigh([1,1,4,3,3,3,6,6,6])\n"
   ]
  },
  {
   "cell_type": "code",
   "execution_count": 57,
   "metadata": {},
   "outputs": [],
   "source": [
    "# Function to identify second highest frequency if there are many such elements ,return the second largest element\n",
    "# [1,2,3,4,1,4,4,9] -> 3"
   ]
  },
  {
   "cell_type": "code",
   "execution_count": 3,
   "metadata": {},
   "outputs": [],
   "source": [
    "def kHishestFre(s,k):\n",
    "    unique = {}\n",
    "    for c in s:\n",
    "        if c not in unique:\n",
    "            unique[c]=1\n",
    "        else:\n",
    "            unique[c]+=1\n",
    "        \n",
    "    maxVal = []\n",
    "    for c in unique.items():\n",
    "        maxVal.append(c[1])\n",
    "    print(maxVal)\n",
    "    maxV = large2(maxVal,k)\n",
    "    print(maxV)\n",
    "    dup = []\n",
    "    for item in unique.items():\n",
    "        if(maxV == item[1]):\n",
    "            dup.append(item[0])\n",
    "        return min(dup)\n",
    "    \n"
   ]
  },
  {
   "cell_type": "code",
   "execution_count": 4,
   "metadata": {},
   "outputs": [
    {
     "data": {
      "text/plain": [
       "-1"
      ]
     },
     "execution_count": 4,
     "metadata": {},
     "output_type": "execute_result"
    }
   ],
   "source": [
    "#Largest number in a list\n",
    "# Second Largest number in  a list\n",
    "# Kth largest number in a list\n",
    "\n",
    "\n",
    "# Element with highest frequency\n",
    "# Second Highest frequency\n",
    "#Kth Highest frequency\n",
    "\n",
    "\n",
    "\n",
    "\n",
    "def kLargestFrequency(s,k):\n",
    "    # Construct the frequency for all unique characters\n",
    "    unique = []\n",
    "    freq = {}\n",
    "    for i in s:\n",
    "        if i not in freq.keys():\n",
    "            freq[i] = s.count(i)\n",
    "    # Extract unique frequencies in decending order\n",
    "    values = sorted(freq.values(),reverse = True)\n",
    "    uniquevalues = list(set(values))\n",
    "    uniquevalues=sorted(uniquevalues,reverse = True)\n",
    "    # Identify the kth largest frequency\n",
    "    if k <= len(uniquevalues):\n",
    "        kvalue = uniquevalues[k-1]\n",
    "    else:\n",
    "        return -1\n",
    "    \n",
    "    li = []\n",
    "    for item in freq.items():\n",
    "        if item[1] == kvalue:\n",
    "            li.append(item[0])\n",
    "    return min(li)\n",
    "kLargestFrequency('aabcd',3)"
   ]
  },
  {
   "cell_type": "code",
   "execution_count": 5,
   "metadata": {},
   "outputs": [
    {
     "data": {
      "text/plain": [
       "1"
      ]
     },
     "execution_count": 5,
     "metadata": {},
     "output_type": "execute_result"
    }
   ],
   "source": [
    "# Function to find the second largest number in alist\n",
    "def secondLargest(li):\n",
    "    # Convert the list into a unique list\n",
    "    # If we use the single loop time complexity = ord(n)\n",
    "    unique = []\n",
    "    for n in li:\n",
    "        if n not in unique:\n",
    "            unique.append(n)\n",
    "    unique = sorted(unique, reverse = True)\n",
    "    if len(unique) > 1:\n",
    "        return unique[1]\n",
    "#this function is not working for single element list\n",
    "secondLargest([1,2])\n",
    "# def fifthLeast(li)\n",
    "\n",
    "# def kLargest(li)\n",
    "\n",
    "#def kSmallest(li)"
   ]
  },
  {
   "cell_type": "code",
   "execution_count": 6,
   "metadata": {},
   "outputs": [
    {
     "data": {
      "text/plain": [
       "7"
      ]
     },
     "execution_count": 6,
     "metadata": {},
     "output_type": "execute_result"
    }
   ],
   "source": [
    "# def fifthLeast(li)\n",
    "def fifthLeast(li):\n",
    "    unique = []\n",
    "    for n in li:\n",
    "        if n not in unique:\n",
    "            unique.append(n)\n",
    "    unique = sorted(unique)\n",
    "    if len(unique) >=5:\n",
    "        return unique[5]\n",
    "    else:\n",
    "        return -1\n",
    "fifthLeast([8,9,2,3,4,5,1,9,3,7,8])"
   ]
  },
  {
   "cell_type": "code",
   "execution_count": 7,
   "metadata": {},
   "outputs": [
    {
     "data": {
      "text/plain": [
       "-1"
      ]
     },
     "execution_count": 7,
     "metadata": {},
     "output_type": "execute_result"
    }
   ],
   "source": [
    "# def kLargest(li)\n",
    "def kthLargest(li,k):\n",
    "    unique = []\n",
    "    for n in li:\n",
    "        if n not in unique:\n",
    "            unique.append(n)\n",
    "    unique = sorted(unique,reverse = True)\n",
    "    if len(unique) > k:\n",
    "        return unique[k]\n",
    "    else:\n",
    "        return -1\n",
    "kthLargest([1,2,3,4,5,6,7,8,7,7],8)"
   ]
  },
  {
   "cell_type": "code",
   "execution_count": 8,
   "metadata": {},
   "outputs": [
    {
     "data": {
      "text/plain": [
       "3"
      ]
     },
     "execution_count": 8,
     "metadata": {},
     "output_type": "execute_result"
    }
   ],
   "source": [
    "#def kSmallest(li)\n",
    "def kSmallest(li,k):\n",
    "    unique = []\n",
    "    for n in li:\n",
    "        if n not in unique:\n",
    "            unique.append(n)\n",
    "    unique = sorted(unique)\n",
    "    if len(unique) >= k:\n",
    "        return unique[k-1]\n",
    "    else:\n",
    "        return -1\n",
    "kSmallest([1,2,3],3)"
   ]
  },
  {
   "cell_type": "code",
   "execution_count": 9,
   "metadata": {},
   "outputs": [
    {
     "name": "stdout",
     "output_type": "stream",
     "text": [
      "2\n"
     ]
    },
    {
     "data": {
      "text/plain": [
       "1"
      ]
     },
     "execution_count": 9,
     "metadata": {},
     "output_type": "execute_result"
    }
   ],
   "source": [
    "# Element with highest frequency\n",
    "# Function to identify the element with highest frequency\n",
    "# If many elements have the highest frequency \n",
    "# highestFrequency([1,2,3,9,8,7,3,4,2,1]) --->\n",
    "def highestFrequency(li):\n",
    "    unique = {}\n",
    "    for n in li:\n",
    "        if n not in unique:\n",
    "            unique[n] = 1\n",
    "        else:\n",
    "            unique[n]+=1\n",
    "    maxfreq = max(unique.values())\n",
    "    \n",
    "    maxfreqkeys = []\n",
    "    for item in unique.items():\n",
    "        #item - > (key,value)\n",
    "        # item[1]\n",
    "        print(item[1])\n",
    "        if item[1] == maxfreq:\n",
    "            maxfreqkeys.append(item[0])\n",
    "        return min(maxfreqkeys)\n",
    "highestFrequency([1,2,3,9,8,7,3,4,2,1])\n",
    "        \n",
    "        "
   ]
  },
  {
   "cell_type": "code",
   "execution_count": 10,
   "metadata": {},
   "outputs": [
    {
     "name": "stdout",
     "output_type": "stream",
     "text": [
      "{1: 2, 2: 2, 3: 1, 4: 2, 9: 1}\n",
      "2\n",
      "1\n"
     ]
    },
    {
     "data": {
      "text/plain": [
       "3"
      ]
     },
     "execution_count": 10,
     "metadata": {},
     "output_type": "execute_result"
    }
   ],
   "source": [
    "# Function to identify second highest frequency element \n",
    "# if there are many such elements , return the smallest\n",
    "#[1,2,3,2,1,4,4,9]--> 3\n",
    "def secondHighestFrequency(li):\n",
    "    unique = {}\n",
    "    for n in li:\n",
    "        if n not in unique:\n",
    "            unique[n] = 1\n",
    "        else:\n",
    "            unique[n]+=1\n",
    "    print(unique)\n",
    "    maxfreq = max(unique.values())\n",
    "    print(maxfreq)\n",
    "    max2 = 0\n",
    "    for v in unique.values(): \n",
    "         if(v>max2 and v<maxfreq): \n",
    "                max2 = v \n",
    "    print(max2)\n",
    "    #print(maxfreq)\n",
    "    \n",
    "    maxfreqkeys = []\n",
    "    for item in unique.items():\n",
    "        #item - > (key,value)\n",
    "        # item[1]\n",
    "        if item[1] == max2:\n",
    "            maxfreqkeys.append(item[0])\n",
    "    return min(maxfreqkeys)\n",
    "secondHighestFrequency([1,2,3,2,1,4,4,9])"
   ]
  },
  {
   "cell_type": "code",
   "execution_count": 11,
   "metadata": {},
   "outputs": [
    {
     "name": "stdout",
     "output_type": "stream",
     "text": [
      "{9: 2, 8: 1, 7: 5, 6: 4, 5: 1, 3: 1, 4: 1}\n"
     ]
    },
    {
     "data": {
      "text/plain": [
       "[2, 1, 5, 4]"
      ]
     },
     "execution_count": 11,
     "metadata": {},
     "output_type": "execute_result"
    }
   ],
   "source": [
    "# Function to identify the kth frequency Highest\n",
    "#[1,1,2,3,4,5]\n",
    "def kthHighestFrequency(li,k):\n",
    "    # Unique characters with frequencies\n",
    "    unique = {}\n",
    "    for n in li:\n",
    "        if n not in unique:\n",
    "            unique[n] = 1\n",
    "        else:\n",
    "            unique[n]+=1\n",
    "    print(unique)\n",
    "    uniquefreq = []\n",
    "    for value in unique.values():\n",
    "        if value not in uniquefreq:\n",
    "            uniquefreq.append(value)\n",
    "    return uniquefreq\n",
    "\n",
    "\n",
    "kthHighestFrequency([9,8,7,6,5,3,4,9,6,7,7,7,6,7,6],2)"
   ]
  },
  {
   "cell_type": "code",
   "execution_count": 12,
   "metadata": {},
   "outputs": [
    {
     "data": {
      "text/plain": [
       "9"
      ]
     },
     "execution_count": 12,
     "metadata": {},
     "output_type": "execute_result"
    }
   ],
   "source": [
    "def kthHighestFrequency(s,k):\n",
    "    # Unique characters with frequencies\n",
    "    unique = {}\n",
    "    for c in s:\n",
    "        if c not in unique:\n",
    "            unique[c] = 1\n",
    "        else:\n",
    "            unique[c]+=1\n",
    "    uniquefreq = []\n",
    "    for value in unique.values():\n",
    "        if value not in uniquefreq:\n",
    "            uniquefreq.append(value)\n",
    "    uniquefreq = sorted(uniquefreq,reverse = True)\n",
    "    if len(uniquefreq) < k:\n",
    "        return -1\n",
    "    else:\n",
    "        kfreq = uniquefreq[k-1]\n",
    "        kfreqchar = []\n",
    "        for item in unique.items():\n",
    "            if item[1] == kfreq:\n",
    "                kfreqchar.append(item[0])\n",
    "        #print(unique)\n",
    "        if len(uniquefreq) > k:\n",
    "            return min(kfreqchar)\n",
    "        else:\n",
    "            return -1\n",
    "\n",
    "# with open(\"DataFiles/k-largest-frequency-input.txt\",\"r\") as f:\n",
    "#     t=int(f.readline())\n",
    "#     for i in range(t):\n",
    "#         strings = f.readline()\n",
    "#         k = int(f.readline())\n",
    "#         print(kthHighestFrequency(strings,k))\n",
    "    \n",
    "kthHighestFrequency([9,8,7,6,5,3,4,9,6,7,7,7,6,7,6],3)"
   ]
  },
  {
   "cell_type": "code",
   "execution_count": 14,
   "metadata": {},
   "outputs": [
    {
     "name": "stdout",
     "output_type": "stream",
     "text": [
      "{9: 2, 8: 1, 7: 5, 6: 4, 5: 1, 3: 1, 4: 1}\n"
     ]
    },
    {
     "data": {
      "text/plain": [
       "9"
      ]
     },
     "execution_count": 14,
     "metadata": {},
     "output_type": "execute_result"
    }
   ],
   "source": [
    "#Practice\n",
    "\n",
    "def kthLowestFrequency(s,k):\n",
    "    # Unique characters with frequencies\n",
    "    unique = {}\n",
    "    for c in s:\n",
    "        if c not in unique:\n",
    "            unique[c] = 1\n",
    "        else:\n",
    "            unique[c]+=1\n",
    "    print(unique)\n",
    "    uniquefreq = []\n",
    "    for value in unique.values():\n",
    "        if value not in uniquefreq:\n",
    "            uniquefreq.append(value)\n",
    "    uniquefreq = sorted(uniquefreq)\n",
    "    if len(uniquefreq) < k:\n",
    "        return -1\n",
    "    else:\n",
    "        kfreq = uniquefreq[k-1]\n",
    "        kfreqchar = []\n",
    "        for item in unique.items():\n",
    "            if item[1] == kfreq:\n",
    "                kfreqchar.append(item[0])\n",
    "        #print(unique)\n",
    "        if len(uniquefreq) > k:\n",
    "            return min(kfreqchar)\n",
    "        else:\n",
    "            return -1\n",
    "    \n",
    "kthLowestFrequency([9,8,7,6,5,3,4,9,6,7,7,7,6,7,6],2)"
   ]
  },
  {
   "cell_type": "code",
   "execution_count": 16,
   "metadata": {},
   "outputs": [
    {
     "name": "stdout",
     "output_type": "stream",
     "text": [
      "s\n",
      "g\n",
      "h\n",
      "e\n",
      "w\n",
      "r\n",
      "n\n",
      "k\n",
      "-1\n",
      "-1\n"
     ]
    }
   ],
   "source": [
    "with open(\"input.txt\",\"r\") as f:\n",
    "    t=int(f.readline())\n",
    "    for i in range(t):\n",
    "        strings = f.readline()\n",
    "        k = int(f.readline())\n",
    "        print(kthHighestFrequency(strings,k))"
   ]
  },
  {
   "cell_type": "code",
   "execution_count": null,
   "metadata": {},
   "outputs": [],
   "source": []
  },
  {
   "cell_type": "code",
   "execution_count": null,
   "metadata": {},
   "outputs": [],
   "source": []
  }
 ],
 "metadata": {
  "kernelspec": {
   "display_name": "Python 3",
   "language": "python",
   "name": "python3"
  },
  "language_info": {
   "codemirror_mode": {
    "name": "ipython",
    "version": 3
   },
   "file_extension": ".py",
   "mimetype": "text/x-python",
   "name": "python",
   "nbconvert_exporter": "python",
   "pygments_lexer": "ipython3",
   "version": "3.7.3"
  }
 },
 "nbformat": 4,
 "nbformat_minor": 2
}
