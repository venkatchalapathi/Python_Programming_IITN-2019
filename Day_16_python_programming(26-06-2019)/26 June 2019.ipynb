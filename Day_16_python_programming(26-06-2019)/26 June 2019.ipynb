{
 "cells": [
  {
   "cell_type": "code",
   "execution_count": null,
   "metadata": {},
   "outputs": [],
   "source": [
    "# Largest number in a list\n",
    "# Second largest number\n",
    "# Kth largest number in a list\n",
    "\n",
    "# Element with highest freq\n",
    "# Second highest freq\n",
    "# kth highest freq\n"
   ]
  },
  {
   "cell_type": "code",
   "execution_count": 3,
   "metadata": {},
   "outputs": [
    {
     "name": "stdout",
     "output_type": "stream",
     "text": [
      "35\n"
     ]
    }
   ],
   "source": [
    "# Practice\n",
    "def large(ls,n):\n",
    "    length = len(ls)\n",
    "    ls.sort()\n",
    "    print(ls[length-n])\n",
    "large([23,3,46,35,16],2)"
   ]
  },
  {
   "cell_type": "code",
   "execution_count": 22,
   "metadata": {},
   "outputs": [
    {
     "name": "stdout",
     "output_type": "stream",
     "text": [
      "-1\n"
     ]
    }
   ],
   "source": [
    "def large2(ls,n):\n",
    "    ls.sort()\n",
    "    print(\"-1\") if n>len(ls) else print(ls[len(ls)-n]) \n",
    "large2([23,43,555,3,23],6)"
   ]
  },
  {
   "cell_type": "code",
   "execution_count": 2,
   "metadata": {},
   "outputs": [
    {
     "name": "stdout",
     "output_type": "stream",
     "text": [
      "6\n"
     ]
    }
   ],
   "source": [
    "# function to find the second largest number\n",
    "# To Extract unique data in a list the Time complexity is O(n)\n",
    "def secondLarge(ls):\n",
    "    unique = []\n",
    "    for n in ls:\n",
    "        if n not in unique:\n",
    "            unique.append(n)\n",
    "            \n",
    "    unique = sorted(unique,reverse=True)\n",
    "    print(unique[1])\n",
    "secondLarge([2,35,6,4,2,2])"
   ]
  },
  {
   "cell_type": "code",
   "execution_count": 19,
   "metadata": {},
   "outputs": [
    {
     "name": "stdout",
     "output_type": "stream",
     "text": [
      "3\n"
     ]
    }
   ],
   "source": [
    "# Fifth smallest number\n",
    "def fifthLeast(ls):\n",
    "    unique = []\n",
    "    for n in ls:\n",
    "        if n not in unique:\n",
    "            unique.append(n)\n",
    "    unique = sorted(unique,reverse=True)\n",
    "    if len(unique)<5:\n",
    "        print(\"-1\")\n",
    "    else:\n",
    "        print(unique[4])\n",
    "fifthLeast([23,43,555,3,23,33])"
   ]
  },
  {
   "cell_type": "code",
   "execution_count": null,
   "metadata": {},
   "outputs": [],
   "source": [
    "# Kth smallest number\n",
    "def kthSmallest(ls,k):\n",
    "    ls.sort()\n",
    "    if len(ls)>k:"
   ]
  }
 ],
 "metadata": {
  "kernelspec": {
   "display_name": "Python 3",
   "language": "python",
   "name": "python3"
  },
  "language_info": {
   "codemirror_mode": {
    "name": "ipython",
    "version": 3
   },
   "file_extension": ".py",
   "mimetype": "text/x-python",
   "name": "python",
   "nbconvert_exporter": "python",
   "pygments_lexer": "ipython3",
   "version": "3.7.3"
  }
 },
 "nbformat": 4,
 "nbformat_minor": 2
}
