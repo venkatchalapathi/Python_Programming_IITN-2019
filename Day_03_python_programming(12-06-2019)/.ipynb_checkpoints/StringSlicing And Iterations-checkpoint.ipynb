{
 "cells": [
  {
   "cell_type": "markdown",
   "metadata": {},
   "source": [
    "## String Slicing:"
   ]
  },
  {
   "cell_type": "code",
   "execution_count": null,
   "metadata": {},
   "outputs": [],
   "source": []
  },
  {
   "cell_type": "code",
   "execution_count": null,
   "metadata": {},
   "outputs": [],
   "source": []
  },
  {
   "cell_type": "code",
   "execution_count": null,
   "metadata": {},
   "outputs": [],
   "source": []
  },
  {
   "cell_type": "markdown",
   "metadata": {},
   "source": [
    "## Iterations in python:\n",
    "\n",
    "### For loop:\n",
    "\n",
    "[101,210]\n",
    "\n",
    "for number in range(101,210+1)\n",
    "O/P:-\n",
    "101\n",
    "102\n",
    "103\n",
    ".\n",
    ".\n",
    ".\n",
    "210\n"
   ]
  },
  {
   "cell_type": "code",
   "execution_count": 18,
   "metadata": {},
   "outputs": [
    {
     "name": "stdout",
     "output_type": "stream",
     "text": [
      "1aa 2aa 3aa 4aa 5aa 6aa 7aa 8aa 9aa 10aa "
     ]
    }
   ],
   "source": [
    "\n",
    "# Function to print n natural numbers\n",
    "\n",
    "def printNnaturalNumber(n):\n",
    "    for counter in range (1,n+1):\n",
    "        print(counter,end=\" \")\n",
    "       # print()\n",
    "    return\n",
    "printNnaturalNumber(10)"
   ]
  },
  {
   "cell_type": "code",
   "execution_count": 32,
   "metadata": {},
   "outputs": [
    {
     "name": "stdout",
     "output_type": "stream",
     "text": [
      "500 502 504 506 508 510 512 514 516 518 520 522 524 526 528 530 532 534 536 538 540 542 544 546 548 550 "
     ]
    }
   ],
   "source": [
    "# Function to print the alternamte values in a range \n",
    "# [500,550] -> 500 502 503 .... 550\n",
    "# For all set based functions in python have start values is inclusive and end value is exclusive\n",
    "# (500,550)-> 500 501 502 .... 549(Exclusive)\n",
    "def alternates(n,n1):\n",
    "    for n in range(n,n1+1,2):  # (init,until,steps)\n",
    "        print(n,end=\" \")   \n",
    "    return\n",
    "alternates(500,550)"
   ]
  },
  {
   "cell_type": "code",
   "execution_count": 17,
   "metadata": {},
   "outputs": [
    {
     "name": "stdout",
     "output_type": "stream",
     "text": [
      "550 549 548 547 546 545 544 543 542 541 540 539 538 537 536 535 534 533 532 531 530 529 528 527 526 525 524 523 522 521 520 519 518 517 516 515 514 513 512 511 510 509 508 507 506 505 504 503 502 501 500 "
     ]
    }
   ],
   "source": [
    "# Function to print reverse of a range in the same\n",
    "\n",
    "def revAlternate(n,n1):\n",
    "    for n1 in range(n1,n-1,-1):\n",
    "        print(n1,end=\" \")\n",
    "    return\n",
    "revAlternate(500,550)"
   ]
  },
  {
   "cell_type": "code",
   "execution_count": 16,
   "metadata": {},
   "outputs": [
    {
     "name": "stdout",
     "output_type": "stream",
     "text": [
      "549 547 545 543 541 539 537 535 533 531 529 527 525 523 521 519 517 515 513 511 509 507 505 503 501 "
     ]
    }
   ],
   "source": [
    "# Print odd numbers in reverse order in a range\n",
    "def revOdd(start,end):\n",
    "    for end in range(end,start-1,-1):\n",
    "        if end%2!=0 :\n",
    "            print(end,end=\" \")\n",
    "    return\n",
    "revOdd(500,550)"
   ]
  },
  {
   "cell_type": "code",
   "execution_count": 26,
   "metadata": {},
   "outputs": [
    {
     "name": "stdout",
     "output_type": "stream",
     "text": [
      "enter start value:1\n",
      "enter end value:3\n"
     ]
    },
    {
     "data": {
      "text/plain": [
       "6"
      ]
     },
     "execution_count": 26,
     "metadata": {},
     "output_type": "execute_result"
    }
   ],
   "source": [
    "# Function to calculate the sum of numbers in a range\n",
    "\n",
    "\n",
    "def sumOfnum(start,end):\n",
    "    sum = 0\n",
    "    for start in range(start,end+1):\n",
    "        sum+=start\n",
    "    return sum\n",
    "\n",
    "sumOfnum(int(input(\"enter start value:\")),int(input(\"enter end value:\")))"
   ]
  },
  {
   "cell_type": "code",
   "execution_count": 25,
   "metadata": {},
   "outputs": [
    {
     "name": "stdout",
     "output_type": "stream",
     "text": [
      "10 * 100 = 1000\n",
      "10 * 101 = 1010\n",
      "10 * 102 = 1020\n",
      "10 * 103 = 1030\n",
      "10 * 104 = 1040\n",
      "10 * 105 = 1050\n",
      "10 * 106 = 1060\n",
      "10 * 107 = 1070\n",
      "10 * 108 = 1080\n",
      "10 * 109 = 1090\n",
      "10 * 110 = 1100\n"
     ]
    }
   ],
   "source": [
    "# Function to generate Multiplication table for a number \n",
    "\n",
    "def printTable(number,start,end):\n",
    "    for start in range(start,end+1):\n",
    "        print(number,\"*\",start,\"=\",number*start)\n",
    "    return\n",
    "printTable(10,100,110)"
   ]
  },
  {
   "cell_type": "code",
   "execution_count": 35,
   "metadata": {},
   "outputs": [
    {
     "data": {
      "text/plain": [
       "3"
      ]
     },
     "execution_count": 35,
     "metadata": {},
     "output_type": "execute_result"
    }
   ],
   "source": [
    "# Functions to calculate average of all factorials in a given range\n",
    "\n",
    "def calulateNfactorials(start,end):\n",
    "    sum = 0\n",
    "    counter =0\n",
    "    for start in range(start,end+1):\n",
    "        sum+=fact(start)\n",
    "        counter+=1\n",
    "    return sum//counter\n",
    "def fact(number):\n",
    "    res = 1\n",
    "    for i in range(1,number+1):\n",
    "        res = res*i\n",
    "    return res\n",
    "calulateNfactorials(1,3)"
   ]
  },
  {
   "cell_type": "code",
   "execution_count": 29,
   "metadata": {},
   "outputs": [
    {
     "name": "stdout",
     "output_type": "stream",
     "text": [
      "enter start value:1\n",
      "enter end value:3\n"
     ]
    },
    {
     "data": {
      "text/plain": [
       "2"
      ]
     },
     "execution_count": 29,
     "metadata": {},
     "output_type": "execute_result"
    }
   ],
   "source": [
    "# Function to calculate the avg of a given range\n",
    "\n",
    "def calcAVGofRange(start,end):\n",
    "    sum = 0\n",
    "    counter = 0\n",
    "    for start in range(start,end+1):\n",
    "        sum += start\n",
    "        counter +=1\n",
    "    return sum//counter\n",
    "calcAVGofRange(int(input(\"enter start value:\")),int(input(\"enter end value:\")))"
   ]
  },
  {
   "cell_type": "code",
   "execution_count": null,
   "metadata": {},
   "outputs": [],
   "source": []
  }
 ],
 "metadata": {
  "kernelspec": {
   "display_name": "Python 3",
   "language": "python",
   "name": "python3"
  },
  "language_info": {
   "codemirror_mode": {
    "name": "ipython",
    "version": 3
   },
   "file_extension": ".py",
   "mimetype": "text/x-python",
   "name": "python",
   "nbconvert_exporter": "python",
   "pygments_lexer": "ipython3",
   "version": "3.7.3"
  }
 },
 "nbformat": 4,
 "nbformat_minor": 2
}
