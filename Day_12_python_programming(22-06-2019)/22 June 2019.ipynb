{
 "cells": [
  {
   "cell_type": "markdown",
   "metadata": {},
   "source": [
    "# 22 June 2019\n",
    "\n",
    "## Day Objectives:\n",
    "- Basic File Data Processing\n",
    "    - Accessing and Modifying file data\n",
    "- character count\n",
    "- Line Count\n",
    "- File Size\n",
    "- Word Count\n",
    "- Unique Word count\n",
    "    "
   ]
  },
  {
   "cell_type": "markdown",
   "metadata": {},
   "source": [
    "#### Read a File - File should exists\n",
    "#### Write to a file - Existing(appending) or New File\n",
    "\n",
    "withh open(filePath,'mode') as f:\n",
    "    print(type(f))\n",
    "    \n",
    "- here f is a simple name of the file or a variable/object\n",
    "- open is the function to open the file\n"
   ]
  },
  {
   "cell_type": "code",
   "execution_count": 1,
   "metadata": {},
   "outputs": [
    {
     "name": "stdout",
     "output_type": "stream",
     "text": [
      "14\n"
     ]
    }
   ],
   "source": [
    "#1.Char count \n",
    "\n",
    "def countCharOfFile(filename):\n",
    "    \n",
    "    with open(filename,'r') as f:\n",
    "        print(len(f.read()))\n",
    "        \n",
    "countCharOfFile('DataFiles/data.txt')"
   ]
  },
  {
   "cell_type": "code",
   "execution_count": 3,
   "metadata": {},
   "outputs": [
    {
     "name": "stdout",
     "output_type": "stream",
     "text": [
      "14 bytes\n"
     ]
    }
   ],
   "source": [
    "# 2.File size\n",
    "def fileSize(filename):\n",
    "    \n",
    "    with open(filename,'r') as f:\n",
    "        print(len(f.read()),\"bytes\")\n",
    "        \n",
    "fileSize('DataFiles/data.txt')"
   ]
  },
  {
   "cell_type": "code",
   "execution_count": 6,
   "metadata": {},
   "outputs": [
    {
     "name": "stdout",
     "output_type": "stream",
     "text": [
      "3\n"
     ]
    }
   ],
   "source": [
    "# 3.Lines Counts\n",
    "def lineCount(filename):\n",
    "    \n",
    "    with open(filename,'r') as f:\n",
    "        count = len(f.readlines())\n",
    "    print(count)\n",
    "lineCount('DataFiles/data.txt')"
   ]
  },
  {
   "cell_type": "code",
   "execution_count": 13,
   "metadata": {},
   "outputs": [
    {
     "name": "stdout",
     "output_type": "stream",
     "text": [
      "8\n"
     ]
    }
   ],
   "source": [
    "# 4.Word Count\n",
    "\n",
    "def countWord(filename):\n",
    "    \n",
    "    with open(filename,'r') as f:\n",
    "        filedata = f.read().split()\n",
    "        print(len(filedata))\n",
    "countWord('DataFiles/data.txt')\n",
    "    "
   ]
  },
  {
   "cell_type": "code",
   "execution_count": 17,
   "metadata": {},
   "outputs": [
    {
     "name": "stdout",
     "output_type": "stream",
     "text": [
      "2\n"
     ]
    }
   ],
   "source": [
    "# 5.Search word count\n",
    "def searchForWordcount(filename,word):\n",
    "    count = 0\n",
    "    with open (filename,'r') as f:\n",
    "        filedata = f.read().split()\n",
    "        for i in range(0,len(filedata)):\n",
    "            if (word == filedata[i]):\n",
    "                count+=1\n",
    "    print(count)\n",
    "uniqueWordcount('DataFiles/data.txt','Hello')"
   ]
  },
  {
   "cell_type": "code",
   "execution_count": 46,
   "metadata": {},
   "outputs": [
    {
     "name": "stdout",
     "output_type": "stream",
     "text": [
      "Hai : 2\n",
      "Hello : 3\n",
      "hia : 1\n",
      "is : 1\n",
      "seven : 1\n",
      "six : 1\n"
     ]
    }
   ],
   "source": [
    "# 6.Unique word count using regular expressions\n",
    "def uniqueWordCount(filename):\n",
    "    count = 0\n",
    "    with open(filename,'r') as f:\n",
    "        filedata = f.read().split()\n",
    "        ds = {}\n",
    "        ls = []\n",
    "        for i in range(0,len(filedata)):\n",
    "            count = 0\n",
    "            temp = []\n",
    "            if filedata[i] in filedata:\n",
    "                for j in range(0,len(filedata)):\n",
    "                    if(filedata[i]==filedata[j]):\n",
    "                        count +=1\n",
    "                        temp.append(filedata[i])                \n",
    "            ds[filedata[i]] = temp\n",
    "        for key in ds:\n",
    "            print(key,\":\",len(ds[key]))\n",
    "        \n",
    "uniqueWordCount('DataFiles/data.txt')\n",
    "                    \n",
    "    "
   ]
  },
  {
   "cell_type": "code",
   "execution_count": 33,
   "metadata": {},
   "outputs": [
    {
     "name": "stdout",
     "output_type": "stream",
     "text": [
      "['Hai', 'Hello', 'hia', 'is', 'seven', 'six'] Length is : 6\n"
     ]
    }
   ],
   "source": [
    "# 6.Unique word count sir's logic ,Optimised logic\n",
    "def uniqueWordCount(filename):\n",
    "    count = 0\n",
    "    with open(filename,'r') as f:\n",
    "        filedata = f.read().split()\n",
    "        ls = []\n",
    "        for i in filedata:\n",
    "            if i not in ls:\n",
    "                ls.append(i)\n",
    "        print(ls,\"Length is :\",len(ls))\n",
    "        for j in range(0,len(ls)):\n",
    "            for k in range(0,len(filedata)):\n",
    "                \n",
    "uniqueWordCount('DataFiles/data.txt')\n",
    "                    "
   ]
  },
  {
   "cell_type": "code",
   "execution_count": null,
   "metadata": {},
   "outputs": [],
   "source": []
  }
 ],
 "metadata": {
  "kernelspec": {
   "display_name": "Python 3",
   "language": "python",
   "name": "python3"
  },
  "language_info": {
   "codemirror_mode": {
    "name": "ipython",
    "version": 3
   },
   "file_extension": ".py",
   "mimetype": "text/x-python",
   "name": "python",
   "nbconvert_exporter": "python",
   "pygments_lexer": "ipython3",
   "version": "3.7.3"
  }
 },
 "nbformat": 4,
 "nbformat_minor": 2
}
