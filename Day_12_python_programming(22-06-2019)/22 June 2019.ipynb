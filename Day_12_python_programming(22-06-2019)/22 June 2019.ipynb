{
 "cells": [
  {
   "cell_type": "markdown",
   "metadata": {},
   "source": [
    "# 22 June 2019\n",
    "\n",
    "## Day Objectives:\n",
    "- Basic File Data Processing\n",
    "    - Accessing and Modifying file data\n",
    "- character count\n",
    "- Line Count\n",
    "- File Size\n",
    "- Word Count\n",
    "- Unique Word count\n",
    "    "
   ]
  },
  {
   "cell_type": "markdown",
   "metadata": {},
   "source": [
    "#### Read a File - File should exists\n",
    "#### Write to a file - Existing(appending) or New File\n",
    "\n",
    "withh open(filePath,'mode') as f:\n",
    "    print(type(f))\n",
    "    \n",
    "- here f is a simple name of the file or a variable/object\n",
    "- open is the function to open the file\n"
   ]
  },
  {
   "cell_type": "code",
   "execution_count": 1,
   "metadata": {},
   "outputs": [
    {
     "name": "stdout",
     "output_type": "stream",
     "text": [
      "14\n"
     ]
    }
   ],
   "source": [
    "#1.Char count \n",
    "\n",
    "def countCharOfFile(filename):\n",
    "    \n",
    "    with open(filename,'r') as f:\n",
    "        print(len(f.read()))\n",
    "        \n",
    "countCharOfFile('DataFiles/data.txt')"
   ]
  },
  {
   "cell_type": "code",
   "execution_count": 3,
   "metadata": {},
   "outputs": [
    {
     "name": "stdout",
     "output_type": "stream",
     "text": [
      "14 bytes\n"
     ]
    }
   ],
   "source": [
    "# 2.File size\n",
    "def fileSize(filename):\n",
    "    \n",
    "    with open(filename,'r') as f:\n",
    "        print(len(f.read()),\"bytes\")\n",
    "        \n",
    "fileSize('DataFiles/data.txt')"
   ]
  },
  {
   "cell_type": "code",
   "execution_count": 6,
   "metadata": {},
   "outputs": [
    {
     "name": "stdout",
     "output_type": "stream",
     "text": [
      "3\n"
     ]
    }
   ],
   "source": [
    "# 3.Lines Counts\n",
    "def lineCount(filename):\n",
    "    \n",
    "    with open(filename,'r') as f:\n",
    "        count = len(f.readlines())\n",
    "    print(count)\n",
    "lineCount('DataFiles/data.txt')"
   ]
  },
  {
   "cell_type": "code",
   "execution_count": 13,
   "metadata": {},
   "outputs": [
    {
     "name": "stdout",
     "output_type": "stream",
     "text": [
      "8\n"
     ]
    }
   ],
   "source": [
    "# 4.Word Count\n",
    "\n",
    "def countWord(filename):\n",
    "    \n",
    "    with open(filename,'r') as f:\n",
    "        filedata = f.read().split()\n",
    "        print(len(filedata))\n",
    "countWord('DataFiles/data.txt')\n",
    "    "
   ]
  },
  {
   "cell_type": "code",
   "execution_count": 17,
   "metadata": {},
   "outputs": [
    {
     "name": "stdout",
     "output_type": "stream",
     "text": [
      "2\n"
     ]
    }
   ],
   "source": [
    "# 5.Search word count\n",
    "def searchForWordcount(filename,word):\n",
    "    count = 0\n",
    "    with open (filename,'r') as f:\n",
    "        filedata = f.read().split()\n",
    "        for i in range(0,len(filedata)):\n",
    "            if (word == filedata[i]):\n",
    "                count+=1\n",
    "    print(count)\n",
    "uniqueWordcount('DataFiles/data.txt','Hello')"
   ]
  },
  {
   "cell_type": "code",
   "execution_count": 6,
   "metadata": {},
   "outputs": [
    {
     "name": "stdout",
     "output_type": "stream",
     "text": [
      "Word      : Count\n",
      "------------------------\n",
      "Hai      : 2\n",
      "Hello      : 3\n",
      "hia      : 1\n",
      "is      : 4\n",
      "seven      : 1\n",
      "six      : 1\n",
      "A      : 1\n",
      "\"zine\"      : 1\n",
      "an      : 1\n",
      "independent      : 1\n",
      "publication,      : 1\n",
      "a      : 2\n",
      "DIY      : 1\n",
      "magazine-like      : 1\n",
      "thing.      : 1\n",
      "Because      : 1\n",
      "you      : 6\n",
      "do      : 2\n",
      "it      : 5\n",
      "yourself      : 1\n",
      "can      : 3\n",
      "be      : 2\n",
      "pretty      : 1\n",
      "much      : 1\n",
      "anything      : 2\n",
      "want      : 2\n",
      "to      : 6\n",
      "be.      : 1\n",
      "This      : 2\n",
      "wikibook      : 1\n",
      "not      : 2\n",
      "about      : 3\n",
      "the      : 4\n",
      "style      : 1\n",
      "or      : 2\n",
      "content      : 1\n",
      "of      : 4\n",
      "what      : 1\n",
      "with      : 2\n",
      "your      : 1\n",
      "zine,      : 2\n",
      "since      : 1\n",
      "contain      : 1\n",
      "almost      : 1\n",
      "(that's      : 1\n",
      "joy      : 1\n",
      "zines!),      : 1\n",
      "but      : 1\n",
      "instead      : 1\n",
      "intended      : 1\n",
      "help      : 1\n",
      "some      : 2\n",
      "practicalities      : 1\n",
      "how      : 1\n",
      "make      : 2\n",
      "putting      : 1\n",
      "paper      : 1\n",
      "and      : 2\n",
      "ink      : 1\n",
      "(or      : 1\n",
      "whatever)      : 1\n",
      "together      : 1\n",
      "something      : 1\n",
      "interesting      : 1\n",
      "that      : 1\n",
      "put      : 1\n",
      "out.      : 1\n",
      "Look:      : 1\n",
      "zines      : 1\n",
      "guide      : 1\n",
      "aims      : 1\n",
      "fairly      : 1\n",
      "international      : 1\n",
      "connected      : 1\n",
      "any      : 2\n",
      "particular      : 1\n",
      "\"scene\",      : 1\n",
      "so      : 1\n",
      "there      : 1\n",
      "aren't      : 1\n",
      "addresses      : 1\n",
      "country-specific      : 1\n",
      "things      : 1\n",
      "(e.g.      : 1\n",
      "postal      : 1\n",
      "system,      : 1\n",
      "legal      : 1\n",
      "system...).      : 1\n",
      "Hopefully      : 1\n",
      "you'll      : 1\n",
      "find      : 1\n",
      "useful.      : 1\n"
     ]
    }
   ],
   "source": [
    "# 6.Unique word count using regular expressions\n",
    "def uniqueWordCount(filename):\n",
    "    count = 0\n",
    "    with open(filename,'r') as f:\n",
    "        filedata = f.read().split()\n",
    "        ds = {}\n",
    "        ls = []\n",
    "        print(\"Word\",\"     :\",\"Count\")\n",
    "        print(\"------------------------\")\n",
    "        for i in range(0,len(filedata)):\n",
    "            count = 0\n",
    "            temp = []\n",
    "            if filedata[i] in filedata:\n",
    "                for j in range(0,len(filedata)):\n",
    "                    if(filedata[i]==filedata[j]):\n",
    "                        count +=1\n",
    "                        temp.append(filedata[i])                \n",
    "            ds[filedata[i]] = temp\n",
    "            \n",
    "        for key in ds:\n",
    "            print(key,\"     :\",len(ds[key]))\n",
    "        \n",
    "uniqueWordCount('DataFiles/data.txt')\n",
    "                    \n",
    "    "
   ]
  },
  {
   "cell_type": "code",
   "execution_count": null,
   "metadata": {},
   "outputs": [],
   "source": []
  },
  {
   "cell_type": "code",
   "execution_count": null,
   "metadata": {},
   "outputs": [],
   "source": []
  }
 ],
 "metadata": {
  "kernelspec": {
   "display_name": "Python 3",
   "language": "python",
   "name": "python3"
  },
  "language_info": {
   "codemirror_mode": {
    "name": "ipython",
    "version": 3
   },
   "file_extension": ".py",
   "mimetype": "text/x-python",
   "name": "python",
   "nbconvert_exporter": "python",
   "pygments_lexer": "ipython3",
   "version": "3.7.3"
  }
 },
 "nbformat": 4,
 "nbformat_minor": 2
}
