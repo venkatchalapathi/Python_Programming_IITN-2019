{
 "cells": [
  {
   "cell_type": "markdown",
   "metadata": {},
   "source": [
    "# Python Basics"
   ]
  },
  {
   "cell_type": "code",
   "execution_count": 11,
   "metadata": {},
   "outputs": [
    {
     "name": "stdout",
     "output_type": "stream",
     "text": [
      "Good Afternoon!||jdflkjdWelcome to Python\n"
     ]
    }
   ],
   "source": [
    "# Python Comments*\n",
    "\n",
    "print(\"Good Afternoon\",end=\"!||\")\n",
    "print(\"Welcome to Python\")"
   ]
  },
  {
   "cell_type": "markdown",
   "metadata": {},
   "source": [
    "### Assignments:"
   ]
  },
  {
   "cell_type": "code",
   "execution_count": 58,
   "metadata": {},
   "outputs": [
    {
     "name": "stdout",
     "output_type": "stream",
     "text": [
      "123\n",
      "123\n",
      "123 124 125 123\n",
      "124 123 125\n"
     ]
    },
    {
     "data": {
      "text/plain": [
       "10000000000000000000000000000000000000000000000000000000000000000000000000000000000"
      ]
     },
     "execution_count": 58,
     "metadata": {},
     "output_type": "execute_result"
    }
   ],
   "source": [
    "a = 123 # Single variable assignment\n",
    "print(a)\n",
    "\n",
    "b = c = d = a # multi variable assignment\n",
    "\n",
    "b+0\n",
    "d+1\n",
    "c+2\n",
    "print(d)\n",
    "c\n",
    "\n",
    "a,b,c = 123,124,125\n",
    "print(a,b,c,d)\n",
    "print(b,a,c)\n",
    "len(str(10 ** 82))\n",
    "10 ** 82"
   ]
  },
  {
   "cell_type": "code",
   "execution_count": 59,
   "metadata": {},
   "outputs": [
    {
     "data": {
      "text/plain": [
       "False"
      ]
     },
     "execution_count": 59,
     "metadata": {},
     "output_type": "execute_result"
    }
   ],
   "source": [
    "a =10\n",
    "b = 20\n",
    "a>b"
   ]
  },
  {
   "cell_type": "code",
   "execution_count": 60,
   "metadata": {},
   "outputs": [
    {
     "data": {
      "text/plain": [
       "True"
      ]
     },
     "execution_count": 60,
     "metadata": {},
     "output_type": "execute_result"
    }
   ],
   "source": [
    "b>a"
   ]
  },
  {
   "cell_type": "markdown",
   "metadata": {},
   "source": [
    "### Data types:"
   ]
  },
  {
   "cell_type": "code",
   "execution_count": 21,
   "metadata": {},
   "outputs": [
    {
     "data": {
      "text/plain": [
       "'123.0'"
      ]
     },
     "execution_count": 21,
     "metadata": {},
     "output_type": "execute_result"
    }
   ],
   "source": [
    "s = 123\n",
    "type(s)\n",
    "len(str(s))\n",
    "float(s)\n",
    "str(s)\n",
    "str(float(int(s)))"
   ]
  },
  {
   "cell_type": "code",
   "execution_count": null,
   "metadata": {},
   "outputs": [],
   "source": []
  },
  {
   "cell_type": "markdown",
   "metadata": {},
   "source": [
    "### Conditionals:"
   ]
  },
  {
   "cell_type": "code",
   "execution_count": 67,
   "metadata": {},
   "outputs": [
    {
     "name": "stdout",
     "output_type": "stream",
     "text": [
      "10\n"
     ]
    }
   ],
   "source": [
    "if a<b:\n",
    "    print(a)\n",
    "else:\n",
    "    print(b)"
   ]
  },
  {
   "cell_type": "code",
   "execution_count": 80,
   "metadata": {},
   "outputs": [
    {
     "name": "stdout",
     "output_type": "stream",
     "text": [
      "20\n"
     ]
    }
   ],
   "source": [
    "print(a) if a>b else print(b)"
   ]
  },
  {
   "cell_type": "code",
   "execution_count": 78,
   "metadata": {},
   "outputs": [
    {
     "data": {
      "text/plain": [
       "10"
      ]
     },
     "execution_count": 78,
     "metadata": {},
     "output_type": "execute_result"
    }
   ],
   "source": [
    "a"
   ]
  },
  {
   "cell_type": "code",
   "execution_count": 79,
   "metadata": {},
   "outputs": [
    {
     "data": {
      "text/plain": [
       "20"
      ]
     },
     "execution_count": 79,
     "metadata": {},
     "output_type": "execute_result"
    }
   ],
   "source": [
    "b"
   ]
  },
  {
   "cell_type": "code",
   "execution_count": 82,
   "metadata": {},
   "outputs": [
    {
     "name": "stdout",
     "output_type": "stream",
     "text": [
      "Odd\n"
     ]
    }
   ],
   "source": [
    "n = 123\n",
    "if(n%2 == 0):\n",
    "    print(\"Even\")\n",
    "else:\n",
    "    print(\"Odd\")"
   ]
  },
  {
   "cell_type": "code",
   "execution_count": 86,
   "metadata": {},
   "outputs": [
    {
     "name": "stdout",
     "output_type": "stream",
     "text": [
      "Odd\n"
     ]
    }
   ],
   "source": [
    "# Check the given number is even or odd?\n",
    "n=123\n",
    "print(\"Even\") if (n%2 == 0) else print(\"Odd\")"
   ]
  },
  {
   "cell_type": "code",
   "execution_count": null,
   "metadata": {},
   "outputs": [],
   "source": []
  },
  {
   "cell_type": "code",
   "execution_count": 6,
   "metadata": {},
   "outputs": [
    {
     "name": "stdout",
     "output_type": "stream",
     "text": [
      "enter number:-1\n",
      "Enter n2:-100\n",
      "Enter n3:-50\n",
      "-1\n"
     ]
    }
   ],
   "source": [
    "# Check the greater number in given numbers?\n",
    "\n",
    "n1= int(input(\"enter number:\"))\n",
    "n2 = int(input(\"Enter n2:\"))\n",
    "n3 = int(input(\"Enter n3:\"))\n",
    "if(n1>n2 and n1>n3):\n",
    "    print(n1)\n",
    "elif(n2>n3):\n",
    "    print(n2)\n",
    "else:\n",
    "    print(n3)"
   ]
  },
  {
   "cell_type": "code",
   "execution_count": 9,
   "metadata": {},
   "outputs": [
    {
     "name": "stdout",
     "output_type": "stream",
     "text": [
      "enter number:2020\n",
      "Leap Year\n"
     ]
    }
   ],
   "source": [
    "# Check whether the given number is leap year or not\n",
    "\n",
    "n1= int(input(\"enter number:\"))\n",
    "if((n1%400 == 0) or (n1%100 !=0 and n1%4 == 0)):\n",
    "    print(\"Leap Year\")\n",
    "else:\n",
    "    print(\"Not Leap\")\n"
   ]
  },
  {
   "cell_type": "code",
   "execution_count": 11,
   "metadata": {},
   "outputs": [
    {
     "name": "stdout",
     "output_type": "stream",
     "text": [
      "enter number:33\n",
      "enter number:40\n",
      "enter number:50\n",
      "Not in a range\n"
     ]
    }
   ],
   "source": [
    "# Check the given number is with in the range or not\n",
    "\n",
    "n1= int(input(\"enter number:\"))\n",
    "lb= int(input(\"enter number:\"))\n",
    "ub= int(input(\"enter number:\"))\n",
    "\n",
    "print(\"with in range\") if(n1>=lb and n1 <= ub) else  print(\"Not in a range\")"
   ]
  },
  {
   "cell_type": "code",
   "execution_count": 12,
   "metadata": {},
   "outputs": [
    {
     "name": "stdout",
     "output_type": "stream",
     "text": [
      "enter number:123\n",
      "3\n"
     ]
    }
   ],
   "source": [
    "# Find the no of digits in a given number\n",
    "n1= int(input(\"enter number:\"))\n",
    "print(len(str(n1)))"
   ]
  },
  {
   "cell_type": "code",
   "execution_count": 13,
   "metadata": {},
   "outputs": [
    {
     "name": "stdout",
     "output_type": "stream",
     "text": [
      "enter number:20\n",
      "number is multiple of 10\n"
     ]
    }
   ],
   "source": [
    "# Check the given number is multiple of 10\n",
    "n1= int(input(\"enter number:\"))\n",
    "print(\"number is multiple of 10\") if(n1%10==0) else print(\"Not a multiple of 10\")"
   ]
  },
  {
   "cell_type": "code",
   "execution_count": 15,
   "metadata": {},
   "outputs": [
    {
     "name": "stdout",
     "output_type": "stream",
     "text": [
      "enter number:3\n",
      "Given number is not a factor of 1000\n"
     ]
    }
   ],
   "source": [
    "# Check the given number is factor of 1000\n",
    "n1= int(input(\"enter number:\"))\n",
    "print(\"Given number is a factor of 1000\") if(1000%n1 == 0) else print(\"Given number is not a factor of 1000\")"
   ]
  },
  {
   "cell_type": "code",
   "execution_count": 16,
   "metadata": {},
   "outputs": [
    {
     "name": "stdout",
     "output_type": "stream",
     "text": [
      "enter String:123\n",
      "enter number:123\n",
      "it is equal\n"
     ]
    }
   ],
   "source": [
    "# Check if a given string is equal to a number\n",
    "n1= str(input(\"enter String:\"))\n",
    "n2= int(input(\"enter number:\"))\n",
    "\n",
    "print(\"it is equal\") if(int(n1)==n2) else print(\"Not equal\")\n"
   ]
  },
  {
   "cell_type": "code",
   "execution_count": 17,
   "metadata": {},
   "outputs": [
    {
     "name": "stdout",
     "output_type": "stream",
     "text": [
      "enter number:4\n"
     ]
    },
    {
     "data": {
      "text/plain": [
       "2.0"
      ]
     },
     "execution_count": 17,
     "metadata": {},
     "output_type": "execute_result"
    }
   ],
   "source": [
    "# Calculate the square root of a number without a math function\n",
    "n1 = int(input(\"enter number:\"))\n",
    "n1 ** 0.5\n"
   ]
  },
  {
   "cell_type": "code",
   "execution_count": 18,
   "metadata": {},
   "outputs": [
    {
     "name": "stdout",
     "output_type": "stream",
     "text": [
      "Enter year2016\n",
      "31622400000000000\n"
     ]
    }
   ],
   "source": [
    "# Calculate the number of nano seconds in a given year(Considering leap year logic)\n",
    "year = int(input(\"Enter year\"))\n",
    "print(366 * 24 * 60 * 60 * (10 ** 9)) if((year%400==0) or (year%100!=0 and year%4==0)) else print(365 * 24 * 3600 *(10 ** 9))"
   ]
  },
  {
   "cell_type": "code",
   "execution_count": null,
   "metadata": {},
   "outputs": [],
   "source": []
  }
 ],
 "metadata": {
  "kernelspec": {
   "display_name": "Python 3",
   "language": "python",
   "name": "python3"
  },
  "language_info": {
   "codemirror_mode": {
    "name": "ipython",
    "version": 3
   },
   "file_extension": ".py",
   "mimetype": "text/x-python",
   "name": "python",
   "nbconvert_exporter": "python",
   "pygments_lexer": "ipython3",
   "version": "3.7.3"
  }
 },
 "nbformat": 4,
 "nbformat_minor": 2
}
