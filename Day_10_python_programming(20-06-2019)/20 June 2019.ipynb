{
 "cells": [
  {
   "cell_type": "markdown",
   "metadata": {},
   "source": [
    "## Objectives:\n",
    "\n",
    " - Regular Expressions\n",
    "    - Constructing Regular expressions for various use cases\n",
    "    - Regular expressions module and related in python\n",
    "    - improving the contacts application with name and phone numbers various\n",
    " - File Handling\n",
    " \n",
    "    - text files\n",
    "    - upgrading the contacts application to store contact information in a text file"
   ]
  },
  {
   "cell_type": "markdown",
   "metadata": {},
   "source": [
    "### Regular Expressions:\n",
    "    - Pattern matching\n",
    "    - Symbolic notation of a pattern\n",
    "        - Pattern : Format which repeats\n",
    "        - Pattern represents :The set of all strings which matches that pattern\n",
    "        \n",
    "        - Example:  [0-9] ->Any digit\n",
    "                    [a-z] ->Any lower Case alphabet\n",
    "                    [2468] ->All single digit multiples of 2\n",
    "                    ^[0-9]{1}$ ->single Digit numbers \n",
    "                    ^[0-9]{2}S ->Two digit numbers\n",
    "                    ^[1-9][0-9]*0$->10 multiples\n",
    "     \n",
    "    - Regular expression online tool link (https://regex101.com/)[https://regex101.com/]"
   ]
  },
  {
   "cell_type": "markdown",
   "metadata": {},
   "source": [
    "### 5' Multiples\n",
    "\n",
    "    - ^[1-9][0-9]*[05]$ ->For validate multiples of 5.\n",
    "    \n",
    "    - ^[5]$|[1-9][0-9]*[05]$ ->Alternative with 5 can be validated.\n",
    "    "
   ]
  },
  {
   "cell_type": "markdown",
   "metadata": {},
   "source": [
    "#### All 10 digit numbers expression\n",
    "\n",
    "    - ^[1-9][0-9]{9}$ \n",
    "        1234567890\n",
    "        4324234324\n",
    "        43434343434\n",
    "    - "
   ]
  },
  {
   "cell_type": "markdown",
   "metadata": {},
   "source": [
    "#### searching for a word\n",
    "    - (print) or [p][r][i][n][t]\n",
    "    "
   ]
  },
  {
   "cell_type": "markdown",
   "metadata": {},
   "source": [
    "### Indian phone numbers\n",
    "    * ^[6-9][0-9]{9}$|^[0][6-9][0-9]{9}$\n",
    "        - With 0 follwed by 10 digit number\n",
    "    * ^[6-9][0-9]{9}\n",
    "    * ^[6-9][0-9]{9}$|^[0][6-9][0-9]{9}$|^[+][9][1][6-9][0-9]{9}$"
   ]
  },
  {
   "cell_type": "markdown",
   "metadata": {},
   "source": [
    "### Email Validation\n",
    "\n",
    "    - Username\n",
    "        - Length of the username : [6,15] character\n",
    "            - No special character other than _ . \n",
    "            - Should not begin and end with _ .\n",
    "            - Character set: All numbers and alphabet\n",
    "        * Expression: ^[0-9a-z][0-9a-z_.]{4,13}[0-9a-z]$\n",
    "    - domain\n",
    "        - Length of domain : [3,18]\n",
    "            - No Special Characters\n",
    "            - Chatacter set: All digits and lower alphabet\n",
    "        * Expression:^[0-9a-z]{4,17}$\n",
    "    - Extention \n",
    "        - Length of extension : [2,4]\n",
    "            - No special characters\n",
    "            - Character set : Alphabet\n",
    "        - Expression: ^[a-z]{2,4}$\n",
    "\n",
    "Email Expression: ** ^([a-z0-9][a-z0-9_.]{4,13}[0-9a-z]+)@([a-zA-Z0-9]{4,16}[a-z0-9]+)\\.([a-zA-Z]{2,4})$ **"
   ]
  },
  {
   "cell_type": "markdown",
   "metadata": {},
   "source": [
    "### Assignment \n",
    "\n",
    "- An expression that starts with a and fifth letter is z\n",
    "    - ^[a].{4}[z]\n",
    "    "
   ]
  },
  {
   "cell_type": "markdown",
   "metadata": {},
   "source": [
    "##  Fuction to validate a phone number\n"
   ]
  },
  {
   "cell_type": "code",
   "execution_count": 5,
   "metadata": {},
   "outputs": [],
   "source": [
    "# Validate a number as phone number\n",
    "\n",
    "import re\n",
    "\n",
    "def phoneValidator(number):\n",
    "    pattern = '^[6-9][0-9]{9}$|^[0][6-9][0-9]{9}$|^[+][9][1][6-9][0-9]{9}$'\n",
    "    \n",
    "    if re.match(pattern,str(number)):\n",
    "        return True\n",
    "    else:\n",
    "        return False\n",
    "        "
   ]
  },
  {
   "cell_type": "code",
   "execution_count": 10,
   "metadata": {},
   "outputs": [
    {
     "name": "stdout",
     "output_type": "stream",
     "text": [
      "Valid Number.\n"
     ]
    }
   ],
   "source": [
    "phoneValidator('+916515958193')"
   ]
  },
  {
   "cell_type": "code",
   "execution_count": 29,
   "metadata": {},
   "outputs": [
    {
     "data": {
      "text/plain": [
       "{'key': 1234567890}"
      ]
     },
     "execution_count": 29,
     "metadata": {},
     "output_type": "execute_result"
    }
   ],
   "source": [
    "contacts = {\"key\":1234567890}\n",
    "\n",
    "contacts"
   ]
  },
  {
   "cell_type": "code",
   "execution_count": 12,
   "metadata": {},
   "outputs": [
    {
     "name": "stdout",
     "output_type": "stream",
     "text": [
      "Added...\n"
     ]
    }
   ],
   "source": [
    "contacts = {}\n",
    "def addContacts(name,number):\n",
    "    if name not in contacts:\n",
    "        if phoneValidator(number):\n",
    "            contacts[name] = number\n",
    "            print(\"Added...\")\n",
    "    else:\n",
    "        print(\"Number Exists...\")\n",
    "    return\n",
    "       \n",
    "addContacts(\"Raj\",\"9798989898\")"
   ]
  },
  {
   "cell_type": "code",
   "execution_count": null,
   "metadata": {},
   "outputs": [],
   "source": [
    "\n"
   ]
  },
  {
   "cell_type": "code",
   "execution_count": null,
   "metadata": {},
   "outputs": [],
   "source": [
    "# Searching the Contacts\n",
    "def searchForContact(name):\n",
    "    if name in contacts:\n",
    "        print(name,\":\",contacts[name])\n",
    "    else:\n",
    "        print(\"Name not Exists\")\n",
    "searchForContact(\"venkat\")"
   ]
  },
  {
   "cell_type": "code",
   "execution_count": null,
   "metadata": {},
   "outputs": [],
   "source": [
    "## List all Contacts\n",
    "\n",
    "def listContacts(contacts):\n",
    "    for i in contacts:\n",
    "        print(contacts)\n",
    "    return\n",
    "listContacts(contacts)"
   ]
  },
  {
   "cell_type": "code",
   "execution_count": 20,
   "metadata": {},
   "outputs": [
    {
     "data": {
      "text/plain": [
       "{}"
      ]
     },
     "execution_count": 20,
     "metadata": {},
     "output_type": "execute_result"
    }
   ],
   "source": [
    "contacts"
   ]
  },
  {
   "cell_type": "code",
   "execution_count": 29,
   "metadata": {},
   "outputs": [],
   "source": [
    "# Email validation\n",
    "\n",
    "def isEmailValid(email):\n",
    "    pattern = '^([a-z0-9][a-z0-9_.]{4,13}[0-9a-z]+)@([a-zA-Z0-9]{4,16}[a-z0-9]+).([a-zA-Z]{2,4})$'\n",
    "    if re.match(pattern,email):\n",
    "        return True\n",
    "    return False"
   ]
  },
  {
   "cell_type": "code",
   "execution_count": 36,
   "metadata": {},
   "outputs": [
    {
     "name": "stdout",
     "output_type": "stream",
     "text": [
      "Contact Added!\n"
     ]
    }
   ],
   "source": [
    "p_book = {\"name1\":[9876543210,'name1@gmail.com']}\n",
    "\n",
    "def addContact(name,phone,email):\n",
    "    if name in p_book:\n",
    "        print(name,\"Already exists.\")\n",
    "    else:\n",
    "        if not phoneValidator(phone):\n",
    "            print(\"Invalid Number\")\n",
    "            return\n",
    "        if not isEmailValid(email):\n",
    "            print(\"Invalid email\")\n",
    "            return\n",
    "        newContact = []\n",
    "        newContact.append(phone)\n",
    "        newContact.append(email)\n",
    "        p_book[name] = newContact\n",
    "        print(\"Contact Added!\")\n"
   ]
  },
  {
   "cell_type": "code",
   "execution_count": 40,
   "metadata": {},
   "outputs": [
    {
     "name": "stdout",
     "output_type": "stream",
     "text": [
      "Contact Added!\n"
     ]
    },
    {
     "data": {
      "text/plain": [
       "{'name1': [9876543210, 'name1@gmail.com'],\n",
       " 'name2': [9876543210, 'name1a@gmail.com'],\n",
       " 'Gopal Sir': [9493872308, 'palgopal@gmail.com']}"
      ]
     },
     "execution_count": 40,
     "metadata": {},
     "output_type": "execute_result"
    }
   ],
   "source": [
    "addContact(\"Gopal Sir\",9493872308,\"palgopal@gmail.com\")\n",
    "p_book"
   ]
  },
  {
   "cell_type": "code",
   "execution_count": null,
   "metadata": {},
   "outputs": [],
   "source": [
    "# Updating the contacts\n",
    "\n",
    "def updateContact(name,ls):\n",
    "    if name in p_book:\n",
    "        p_book[name]=ls\n",
    "        print(\"Updated\")\n",
    "    else:\n",
    "        print(\"Not Found...\")\n",
    "ks = []"
   ]
  },
  {
   "cell_type": "code",
   "execution_count": 48,
   "metadata": {},
   "outputs": [
    {
     "name": "stdout",
     "output_type": "stream",
     "text": [
      "Gopal Sir\n",
      "phpn: [9493872308, 'palgopal@gmail.com']\n",
      "number: [9493872308, 'palgopal@gmail.com']\n"
     ]
    }
   ],
   "source": [
    "# Search the contacts\n",
    "\n",
    "def searchContact(name):\n",
    "    if name in p_book:\n",
    "        print(name)\n",
    "        print(\"phpn:\",p_book[name])\n",
    "        print(\"number:\",p_book[name])\n",
    "    return\n",
    "searchContact(\"Gopal Sir\")\n",
    "        "
   ]
  },
  {
   "cell_type": "code",
   "execution_count": 44,
   "metadata": {},
   "outputs": [
    {
     "name": "stdout",
     "output_type": "stream",
     "text": [
      "name1 \n",
      " Phone : 9876543210 \n",
      " Number : name1@gmail.com\n",
      "name2 \n",
      " Phone : 9876543210 \n",
      " Number : name1a@gmail.com\n",
      "Gopal Sir \n",
      " Phone : 9493872308 \n",
      " Number : palgopal@gmail.com\n"
     ]
    }
   ],
   "source": [
    "# Function to list all Contacts\n",
    "\n",
    "def listAllContacts():\n",
    "    for p,info in p_book.items():\n",
    "        print(p,\"\\n\",\"Phone :\",info[0],\"\\n\",\"Number :\",info[1])\n",
    "    return\n",
    "listAllContacts()"
   ]
  },
  {
   "cell_type": "code",
   "execution_count": null,
   "metadata": {},
   "outputs": [],
   "source": [
    "def editContact(name,phone,email):\n",
    "    for name in p_book:\n",
    "        "
   ]
  },
  {
   "cell_type": "markdown",
   "metadata": {},
   "source": [
    "### File Handling in python\n"
   ]
  },
  {
   "cell_type": "markdown",
   "metadata": {},
   "source": [
    "File - Document containing Information residing on the perminant storage\n",
    "Types - Text,pdf ,csv\n",
    "File I/O - Channelling I/O data to files\n",
    "Default I/O Channels - Keyboard/Screen\n",
    "Change I/O Channel to files for Reading and writing \n",
    "\n",
    "Read a file - Input\n",
    "Write to a file - Output\n",
    "\n",
    "#### Read a file\n",
    "- open(filename,mode)"
   ]
  },
  {
   "cell_type": "code",
   "execution_count": 4,
   "metadata": {},
   "outputs": [
    {
     "name": "stdout",
     "output_type": "stream",
     "text": [
      "Line1\n",
      "Line2\n",
      "Line3\n"
     ]
    }
   ],
   "source": [
    "def readFile(filename):\n",
    "    f = open(filename,'r')\n",
    "    filedata  = f.read()\n",
    "    \n",
    "    return filedata\n",
    "\n",
    "filedata = readFile('DataFiles/data.txt')\n",
    "for line in filedata.split('\\n'):\n",
    "    print(line)"
   ]
  },
  {
   "cell_type": "code",
   "execution_count": 6,
   "metadata": {},
   "outputs": [
    {
     "name": "stdout",
     "output_type": "stream",
     "text": [
      "Line1\n",
      "\n",
      "Line2\n",
      "\n",
      "Line3\n"
     ]
    }
   ],
   "source": [
    "def printFileDataLines(filename):\n",
    "    f = open(filename,'r') # with open(filename,'r') as f:\n",
    "    for line in f:\n",
    "        print(line)\n",
    "    return\n",
    "printFileDataLines('DataFiles/data.txt')"
   ]
  },
  {
   "cell_type": "markdown",
   "metadata": {},
   "source": [
    "### Writing to file\n"
   ]
  },
  {
   "cell_type": "code",
   "execution_count": 9,
   "metadata": {},
   "outputs": [],
   "source": [
    "# Function to write data into a file\n",
    "\n",
    "def writeTofile(filename,filedata):\n",
    "    with open(filename,'w') as f:\n",
    "        f.write(filedata)\n",
    "    return\n",
    "writeTofile('DataFiles/data.txt',\"Hello Gopal sir How r u zxing xing amazing...\")\n"
   ]
  },
  {
   "cell_type": "code",
   "execution_count": 10,
   "metadata": {},
   "outputs": [
    {
     "name": "stdout",
     "output_type": "stream",
     "text": [
      "Hello Gopal sir How r u zxing xing amazing...Hello Gopal sir How r u zxing xing amazing...\n"
     ]
    }
   ],
   "source": [
    "printFileDataLines('DataFiles/data.txt')"
   ]
  },
  {
   "cell_type": "code",
   "execution_count": 11,
   "metadata": {},
   "outputs": [],
   "source": [
    "# Function to write data into a file\n",
    "\n",
    "def appendFileData(filename,filedata):\n",
    "    with open(filename,'a') as f:\n",
    "        f.write(filedata)\n",
    "    return\n",
    "appendFileData('DataFiles/data.txt',\"Hello Gopal sir How r u zxing xing amazing...\")\n"
   ]
  },
  {
   "cell_type": "code",
   "execution_count": 18,
   "metadata": {},
   "outputs": [],
   "source": [
    "def addCon(filename,data):\n",
    "    with open(filename,'a') as f:\n",
    "        f.writelines(data)\n",
    "data = \"venkat,9898989898,venkat@gmail.com\\n\"\n",
    "addCon('DataFiles/data.txt',data)"
   ]
  },
  {
   "cell_type": "code",
   "execution_count": 19,
   "metadata": {},
   "outputs": [
    {
     "name": "stdout",
     "output_type": "stream",
     "text": [
      "name2,9878987898,name11@gmail.com\n",
      "\n",
      "name3,9999888877,name33@gmail.com\n",
      "\n",
      "venkat,9898989898,venkat@gmail.com\n",
      "\n",
      "venkat,9898989898,venkat@gmail.com\n",
      "\n"
     ]
    }
   ],
   "source": [
    "printFileDataLines('DataFiles/data.txt')"
   ]
  },
  {
   "cell_type": "code",
   "execution_count": null,
   "metadata": {},
   "outputs": [],
   "source": []
  }
 ],
 "metadata": {
  "kernelspec": {
   "display_name": "Python 3",
   "language": "python",
   "name": "python3"
  },
  "language_info": {
   "codemirror_mode": {
    "name": "ipython",
    "version": 3
   },
   "file_extension": ".py",
   "mimetype": "text/x-python",
   "name": "python",
   "nbconvert_exporter": "python",
   "pygments_lexer": "ipython3",
   "version": "3.7.3"
  }
 },
 "nbformat": 4,
 "nbformat_minor": 2
}
