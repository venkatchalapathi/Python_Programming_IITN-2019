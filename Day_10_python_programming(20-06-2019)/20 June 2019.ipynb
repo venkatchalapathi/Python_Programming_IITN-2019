{
 "cells": [
  {
   "cell_type": "markdown",
   "metadata": {},
   "source": [
    "## Objectives:\n",
    "\n",
    " - Regular Expressions\n",
    "    - Constructing Regular expressions for various use cases\n",
    "    - Regular expressions module and related in python\n",
    "    - improving the contacts application with name and phone numbers various\n",
    " - File Handling\n",
    " \n",
    "    - text files\n",
    "    - upgrading the contacts application to store contact information in a text file"
   ]
  },
  {
   "cell_type": "markdown",
   "metadata": {},
   "source": [
    "### Regular Expressions:\n",
    "    - Pattern matching\n",
    "    - Symbolic notation of a pattern\n",
    "        - Pattern : Format which repeats\n",
    "        - Pattern represents :The set of all strings which matches that pattern\n",
    "        \n",
    "        - Example:  [0-9] ->Any digit\n",
    "                    [a-z] ->Any lower Case alphabet\n",
    "                    [2468] ->All single digit multiples of 2\n",
    "                    ^[0-9]{1}$ ->single Digit numbers \n",
    "                    ^[0-9]{2}S ->Two digit numbers\n",
    "                    ^[1-9][0-9]*0$->10 multiples"
   ]
  },
  {
   "cell_type": "code",
   "execution_count": null,
   "metadata": {},
   "outputs": [],
   "source": []
  }
 ],
 "metadata": {
  "kernelspec": {
   "display_name": "Python 3",
   "language": "python",
   "name": "python3"
  },
  "language_info": {
   "codemirror_mode": {
    "name": "ipython",
    "version": 3
   },
   "file_extension": ".py",
   "mimetype": "text/x-python",
   "name": "python",
   "nbconvert_exporter": "python",
   "pygments_lexer": "ipython3",
   "version": "3.7.3"
  }
 },
 "nbformat": 4,
 "nbformat_minor": 2
}
