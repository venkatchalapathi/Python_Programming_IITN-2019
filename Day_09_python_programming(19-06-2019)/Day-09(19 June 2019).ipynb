{
 "cells": [
  {
   "cell_type": "code",
   "execution_count": 15,
   "metadata": {},
   "outputs": [
    {
     "name": "stdout",
     "output_type": "stream",
     "text": [
      "3\n",
      "1 4 6\n",
      "24\n"
     ]
    }
   ],
   "source": [
    "n = int(input())\n",
    "ls = input()\n",
    "ls = ls.split()\n",
    "lst = []\n",
    "res = 1\n",
    "for i in range(0,len(ls)):\n",
    "    lst.append(int(ls[i]))\n",
    "for j in range(0,len(lst)):\n",
    "    res *= lst[j]\n",
    "print(res)"
   ]
  },
  {
   "cell_type": "code",
   "execution_count": 12,
   "metadata": {},
   "outputs": [
    {
     "data": {
      "text/plain": [
       "1"
      ]
     },
     "execution_count": 12,
     "metadata": {},
     "output_type": "execute_result"
    }
   ],
   "source": [
    "int(ls[0])"
   ]
  },
  {
   "cell_type": "code",
   "execution_count": null,
   "metadata": {},
   "outputs": [],
   "source": [
    "def recursiveSums():\n",
    "    p = int(input())\n",
    "    tot = 0\n",
    "    for j in range(p):\n",
    "        d = input().split()\n",
    "        a = int(d[0])\n",
    "        b = int(d[1])\n",
    "        tot += a * b\n",
    "    if tot <= 9:\n",
    "        return tot\n",
    "    else:\n",
    "        while(tot>9):\n",
    "            check = list(str(tot))\n",
    "            check = [int(x) for x in check]\n",
    "            tot = sum(check)\n",
    "        return tot\n",
    "n = int(input())\n",
    "\n",
    "for i in range(n):\n",
    "    print(recursiveSums())"
   ]
  },
  {
   "cell_type": "code",
   "execution_count": null,
   "metadata": {},
   "outputs": [],
   "source": [
    "\n",
    "def Charsum(str, s, n):\n",
    "    score = 0\n",
    "    index = 0\n",
    "    for i in range(n):\n",
    "        if (str[i] == s):\n",
    "            for j in range(len(s)):\n",
    "                score += (ord(s[j])-ord('a') + 1)\n",
    "                index = i + 1\n",
    "                break\n",
    "    score = score * index\n",
    "    return score\n",
    "str = input()\n",
    "s = str.split()\n",
    "score = Charsum(str, s[0], s[1])\n",
    "print(score)"
   ]
  },
  {
   "cell_type": "code",
   "execution_count": null,
   "metadata": {},
   "outputs": [],
   "source": [
    "n=input().split()\n",
    "n[0],n[1]=int(n[0]),int(n[1])\n",
    "a=input().split()\n",
    "sum=[]\n",
    "for i in range(0,n[0]):\n",
    "    if i==0:\n",
    "        sum.append(int(a[i]))    \n",
    "    else:\n",
    "        sum.append(int(sum[i-1])+int(a[i]))\n",
    "del a\n",
    "#read query\n",
    "for k in range(0,n[1]):\n",
    "    quer=input().split()\n",
    "    i=int(quer[0])\n",
    "    j=int(quer[1])\n",
    "    if i>1:\n",
    "        print((sum[j-1]-sum[i-2])//(j-i+1))\n",
    "    else:\n",
    "        print(sum[j-1]//j-i+1)"
   ]
  }
 ],
 "metadata": {
  "kernelspec": {
   "display_name": "Python 3",
   "language": "python",
   "name": "python3"
  },
  "language_info": {
   "codemirror_mode": {
    "name": "ipython",
    "version": 3
   },
   "file_extension": ".py",
   "mimetype": "text/x-python",
   "name": "python",
   "nbconvert_exporter": "python",
   "pygments_lexer": "ipython3",
   "version": "3.7.3"
  }
 },
 "nbformat": 4,
 "nbformat_minor": 2
}
