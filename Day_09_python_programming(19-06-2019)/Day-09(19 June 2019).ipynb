{
 "cells": [
  {
   "cell_type": "code",
   "execution_count": 15,
   "metadata": {},
   "outputs": [
    {
     "name": "stdout",
     "output_type": "stream",
     "text": [
      "3\n",
      "1 4 6\n",
      "24\n"
     ]
    }
   ],
   "source": [
    "n = int(input())\n",
    "ls = input()\n",
    "ls = ls.split()\n",
    "lst = []\n",
    "res = 1\n",
    "for i in range(0,len(ls)):\n",
    "    lst.append(int(ls[i]))\n",
    "for j in range(0,len(lst)):\n",
    "    res *= lst[j]\n",
    "print(res)"
   ]
  },
  {
   "cell_type": "code",
   "execution_count": 12,
   "metadata": {},
   "outputs": [
    {
     "data": {
      "text/plain": [
       "1"
      ]
     },
     "execution_count": 12,
     "metadata": {},
     "output_type": "execute_result"
    }
   ],
   "source": [
    "int(ls[0])"
   ]
  },
  {
   "cell_type": "code",
   "execution_count": null,
   "metadata": {},
   "outputs": [],
   "source": [
    "def recursiveSums():\n",
    "    p = int(input())\n",
    "    tot = 0\n",
    "    for j in range(p):\n",
    "        d = input().split()\n",
    "        a = int(d[0])\n",
    "        b = int(d[1])\n",
    "        tot += a * b\n",
    "    if tot <= 9:\n",
    "        return tot\n",
    "    else:\n",
    "        while(tot>9):\n",
    "            check = list(str(tot))\n",
    "            check = [int(x) for x in check]\n",
    "            tot = sum(check)\n",
    "        return tot\n",
    "n = int(input())\n",
    "\n",
    "for i in range(n):\n",
    "    print(recursiveSums())"
   ]
  }
 ],
 "metadata": {
  "kernelspec": {
   "display_name": "Python 3",
   "language": "python",
   "name": "python3"
  },
  "language_info": {
   "codemirror_mode": {
    "name": "ipython",
    "version": 3
   },
   "file_extension": ".py",
   "mimetype": "text/x-python",
   "name": "python",
   "nbconvert_exporter": "python",
   "pygments_lexer": "ipython3",
   "version": "3.7.3"
  }
 },
 "nbformat": 4,
 "nbformat_minor": 2
}
