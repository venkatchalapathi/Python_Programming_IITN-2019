{
 "cells": [
  {
   "cell_type": "markdown",
   "metadata": {},
   "source": [
    "## Roy and Profile Picture\n"
   ]
  },
  {
   "cell_type": "code",
   "execution_count": null,
   "metadata": {},
   "outputs": [],
   "source": []
  },
  {
   "cell_type": "code",
   "execution_count": null,
   "metadata": {},
   "outputs": [],
   "source": []
  },
  {
   "cell_type": "code",
   "execution_count": null,
   "metadata": {},
   "outputs": [],
   "source": []
  },
  {
   "cell_type": "markdown",
   "metadata": {},
   "source": [
    "# Contacts Application"
   ]
  },
  {
   "cell_type": "markdown",
   "metadata": {},
   "source": [
    "* Add Contacts"
   ]
  },
  {
   "cell_type": "code",
   "execution_count": 6,
   "metadata": {},
   "outputs": [
    {
     "name": "stdout",
     "output_type": "stream",
     "text": [
      "Contact Exists.\n"
     ]
    }
   ],
   "source": [
    "# Function to add the contacts to file\n",
    "import packages.validator as ff # form packages import validator\n",
    "\n",
    "def addCon(name,number,email):\n",
    "    filename = 'DataFiles/data.txt'\n",
    "    if ff.isEmailValid(email) and ff.phoneValidator(number):\n",
    "        if checkContactExists(name):\n",
    "            print(\"Contact Exists.\")\n",
    "        else:\n",
    "            with open(filename,'a') as f:\n",
    "                f.writelines(name+','+str(number)+','+email+'\\n')\n",
    "                print(name,\"Saved ...\")\n",
    "    else:\n",
    "        print(\"Invalid data,either email or phone number is invalid\")\n",
    "            \n",
    "addCon('Chalam',9898989898,'venkat.pv71@gmail.com')"
   ]
  },
  {
   "cell_type": "code",
   "execution_count": 5,
   "metadata": {},
   "outputs": [],
   "source": [
    "import re\n",
    "def checkContactExists(name):\n",
    "    filename = 'DataFiles/data.txt'\n",
    "    with open(filename,'r') as f:\n",
    "        filedata = f.read()\n",
    "        pattern = name+','\n",
    "    return re.search(pattern,filedata)   "
   ]
  },
  {
   "cell_type": "code",
   "execution_count": 17,
   "metadata": {},
   "outputs": [
    {
     "data": {
      "text/plain": [
       "[['Chaam', '9898989898', 'venkat.pv71@gmail.com\\n'],\n",
       " ['', '', '9502989373', 'tvchala71@gmail.com', 'chalam123@gmail.com', '', '']]"
      ]
     },
     "execution_count": 17,
     "metadata": {},
     "output_type": "execute_result"
    }
   ],
   "source": [
    "# files to list\n",
    "\n",
    "def contacts2List(name):\n",
    "    ls = []\n",
    "    with open(name,'r') as f:\n",
    "        for line in f:\n",
    "            ls.append(line.split(','))\n",
    "    return ls\n",
    "ls = contacts2List('DataFiles/data.txt')\n",
    "ls"
   ]
  },
  {
   "cell_type": "code",
   "execution_count": 8,
   "metadata": {},
   "outputs": [
    {
     "data": {
      "text/plain": [
       "'Chaam,9898989898,venkat.pv71@gmail.com\\n,Chalam,9897898788,chalam123@gmail.com,'"
      ]
     },
     "execution_count": 8,
     "metadata": {},
     "output_type": "execute_result"
    }
   ],
   "source": [
    "def list2Contacts(ls):\n",
    "    s = ''\n",
    "    for i in range(0,len(ls)):\n",
    "        lls = ls[i]\n",
    "        for j in range(0,len(lls)):\n",
    "            s+=str(lls[j])+','\n",
    "    return s\n",
    "list2Contacts(ls)"
   ]
  },
  {
   "cell_type": "code",
   "execution_count": 18,
   "metadata": {},
   "outputs": [
    {
     "name": "stdout",
     "output_type": "stream",
     "text": [
      "Chaam 9898989898 venkat.pv71@gmail.com\n",
      "\n",
      "  9502989373\n"
     ]
    }
   ],
   "source": [
    "# Show contact\n",
    "def showContact():\n",
    "    ls = contacts2List('DataFiles/data.txt')\n",
    "    for i in range(0,len(ls)):\n",
    "        lss = ls[i]\n",
    "        print(lss[0],lss[1],lss[2])\n",
    "showContact()"
   ]
  },
  {
   "cell_type": "code",
   "execution_count": 19,
   "metadata": {},
   "outputs": [],
   "source": [
    "# Edit the Contacts in a file\n",
    "\n",
    "def editContact(name,number,email):\n",
    "    ls = contacts2List('DataFiles/data.txt')\n",
    "    for i in range(0,len(ls)):\n",
    "        lss = ls[i]\n",
    "        for j in range(0,len(lss)):\n",
    "            if(name == lss[j]):\n",
    "                lss[0] = name\n",
    "                lss[1] = number\n",
    "                lss[2] = email\n",
    "                print(name,\" Updated..\")   \n",
    "                print(lss[0],lss[1],lss[2])\n",
    "    s=list2Contacts(ls)\n",
    "    save2File(s)\n",
    "    return s"
   ]
  },
  {
   "cell_type": "code",
   "execution_count": 10,
   "metadata": {},
   "outputs": [],
   "source": [
    "def save2File(s):\n",
    "    with open(\"DataFiles/data.txt\",'w') as f:\n",
    "        f.write(s)\n"
   ]
  },
  {
   "cell_type": "code",
   "execution_count": 11,
   "metadata": {},
   "outputs": [
    {
     "data": {
      "text/plain": [
       "'Chaam,9898989898,venkat.pv71@gmail.com\\n,Chalam,9897898788,chalam123@gmail.com,'"
      ]
     },
     "execution_count": 11,
     "metadata": {},
     "output_type": "execute_result"
    }
   ],
   "source": [
    "temp = editContact('venkat',8978532078,'gopalsir@gmail.com')\n",
    "temp\n"
   ]
  },
  {
   "cell_type": "code",
   "execution_count": 24,
   "metadata": {},
   "outputs": [
    {
     "name": "stdout",
     "output_type": "stream",
     "text": [
      "Mastan Saved ...\n"
     ]
    }
   ],
   "source": [
    "addCon('Mastan',9878685848,'mastansir@gmail.com')"
   ]
  },
  {
   "cell_type": "code",
   "execution_count": 28,
   "metadata": {},
   "outputs": [
    {
     "name": "stdout",
     "output_type": "stream",
     "text": [
      "Mastan  Updated..\n",
      "Data updated...\n"
     ]
    },
    {
     "data": {
      "text/plain": [
       "'Chaam,9898989898,venkat.pv71@gmail.com\\n,,,,Chalam,9898989898,venkat.pv71@gmail.com\\n,Mastan,9493872308,gopalsir@gmail.com,9493872308,gopalsir@gmail.com,mastansir@gmail.com\\n,,,,,'"
      ]
     },
     "execution_count": 28,
     "metadata": {},
     "output_type": "execute_result"
    }
   ],
   "source": [
    "editContact('Mastan',9493872308,'gopalsir@gmail.com')"
   ]
  },
  {
   "cell_type": "code",
   "execution_count": 11,
   "metadata": {},
   "outputs": [],
   "source": [
    "#Delete the contact\n",
    "def deleteContact(name):\n",
    "    ls = contacts2List('DataFiles/data.txt')\n",
    "    for i in range(0,len(ls)):\n",
    "        lss = ls[i]\n",
    "        for j in range(0,len(lss)):\n",
    "            if(name == lss[j]):\n",
    "                ls.pop(i)\n",
    "                print(name,\" Deleted..\")    \n",
    "            else:\n",
    "                print(\"not Deleted\")\n",
    "    s=list2Contacts(ls)\n",
    "    save2File(s)\n",
    "    return s"
   ]
  },
  {
   "cell_type": "code",
   "execution_count": 20,
   "metadata": {},
   "outputs": [
    {
     "name": "stdout",
     "output_type": "stream",
     "text": [
      "Contact Not Exits\n"
     ]
    }
   ],
   "source": [
    "# Find and Replace the Contact\n",
    "def findNReplace(name):\n",
    "    if checkContactExists(name):\n",
    "        ls = contacts2List('DataFiles/data.txt')\n",
    "        for i in range(0,len(ls)):\n",
    "            lss = ls[i]\n",
    "            #print(lss[0])\n",
    "            #print(lss)\n",
    "            for j in range(0,len(lss)):\n",
    "                if lss[j]==name:                   \n",
    "                    print('Contact Found')\n",
    "                    print(lss[0],lss[1],lss[2])\n",
    "                    print('Replace Contact')\n",
    "                    n = input(\"Enter number to replace\")\n",
    "                    e = input(\"Enter email to replace\")\n",
    "                    editContact(lss[0],n,e)\n",
    "                                  \n",
    "    else:\n",
    "        print(\"Contact Not Exits\")\n",
    "    return\n",
    "findNReplace('Chalam')\n",
    "        "
   ]
  },
  {
   "cell_type": "code",
   "execution_count": 119,
   "metadata": {},
   "outputs": [
    {
     "data": {
      "text/plain": [
       "123"
      ]
     },
     "execution_count": 119,
     "metadata": {},
     "output_type": "execute_result"
    }
   ],
   "source": [
    "ll.pop(0)"
   ]
  },
  {
   "cell_type": "code",
   "execution_count": 120,
   "metadata": {},
   "outputs": [
    {
     "data": {
      "text/plain": [
       "[123, 4321, 21312]"
      ]
     },
     "execution_count": 120,
     "metadata": {},
     "output_type": "execute_result"
    }
   ],
   "source": [
    "ll"
   ]
  },
  {
   "cell_type": "code",
   "execution_count": 122,
   "metadata": {},
   "outputs": [
    {
     "data": {
      "text/plain": [
       "4321"
      ]
     },
     "execution_count": 122,
     "metadata": {},
     "output_type": "execute_result"
    }
   ],
   "source": [
    "ll.pop(1)"
   ]
  },
  {
   "cell_type": "code",
   "execution_count": 123,
   "metadata": {},
   "outputs": [
    {
     "data": {
      "text/plain": [
       "[123, 21312]"
      ]
     },
     "execution_count": 123,
     "metadata": {},
     "output_type": "execute_result"
    }
   ],
   "source": [
    "ll"
   ]
  },
  {
   "cell_type": "code",
   "execution_count": 16,
   "metadata": {},
   "outputs": [
    {
     "name": "stdout",
     "output_type": "stream",
     "text": [
      "Welcome to python contacts Application\n",
      "\n",
      "\n",
      "1.Add Contacts\n",
      "2.Show Contacts\n",
      "3.Edit Contact\n",
      "4.Delete Contact\n",
      "5.Find and Replace Contact\n",
      "6.Exit App\n",
      "Enter your Choice...3\n"
     ]
    },
    {
     "data": {
      "text/plain": [
       "3"
      ]
     },
     "execution_count": 16,
     "metadata": {},
     "output_type": "execute_result"
    }
   ],
   "source": [
    "def showMenu():\n",
    "    print('Welcome to python contacts Application\\n\\n')\n",
    "    print('1.Add Contacts')\n",
    "    print('2.Show Contacts')\n",
    "    print('3.Edit Contact')\n",
    "    print('4.Delete Contact')\n",
    "    print('5.Find and Replace Contact')\n",
    "    print('6.Exit App')\n",
    "    n = int(input(\"Enter your Choice...\"))\n",
    "    return n\n",
    "showMenu()\n",
    "    "
   ]
  },
  {
   "cell_type": "code",
   "execution_count": null,
   "metadata": {},
   "outputs": [],
   "source": [
    "def contactsApp():\n",
    "    n = showMenu()\n",
    "    while n!=6:\n",
    "        if n == 1:\n",
    "            name = input(\"Enter Contact name:\")\n",
    "            mobile = int(input(\"Enter Mobile number:\"))\n",
    "            email = input(\"Enter email-Id:\")\n",
    "            addCon(name,mobile,email)\n",
    "            n = showMenu()\n",
    "        elif(n==2):\n",
    "            "
   ]
  }
 ],
 "metadata": {
  "kernelspec": {
   "display_name": "Python 3",
   "language": "python",
   "name": "python3"
  },
  "language_info": {
   "codemirror_mode": {
    "name": "ipython",
    "version": 3
   },
   "file_extension": ".py",
   "mimetype": "text/x-python",
   "name": "python",
   "nbconvert_exporter": "python",
   "pygments_lexer": "ipython3",
   "version": "3.7.3"
  }
 },
 "nbformat": 4,
 "nbformat_minor": 2
}
