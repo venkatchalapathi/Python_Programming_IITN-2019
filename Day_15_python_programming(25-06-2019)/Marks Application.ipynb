{
 "cells": [
  {
   "cell_type": "markdown",
   "metadata": {},
   "source": [
    "Marks analysis app\n",
    "- Generate marks file for n students\n",
    "- input: Marks text file - each line contains marks of one student\n",
    "- Generates a report eith the following\n",
    "    - Class Avg\n",
    "    - % of students passed\n",
    "    - % of students failed\n",
    "    - % of students with distinction\n",
    "    - Highest Marks frequency\n",
    "    - Lowest Marks frequesncy\n",
    "    \n",
    "    "
   ]
  },
  {
   "cell_type": "markdown",
   "metadata": {},
   "source": [
    "Contacts Application\n"
   ]
  },
  {
   "cell_type": "code",
   "execution_count": 52,
   "metadata": {},
   "outputs": [],
   "source": [
    "# function to generate marks data for n student\n",
    "from random import randint\n",
    "\n",
    "def generateMarks(n,lb,ub):\n",
    "    with open('DataFiles/marks.txt','w') as f:\n",
    "        for i in range(0,n):\n",
    "            marks = randint(lb,ub)\n",
    "            f.write(str(marks)+'\\n')\n",
    "    return\n",
    "generateMarks(60,0,100)"
   ]
  },
  {
   "cell_type": "code",
   "execution_count": 53,
   "metadata": {},
   "outputs": [
    {
     "name": "stdout",
     "output_type": "stream",
     "text": [
      "Class Average: 47\n"
     ]
    }
   ],
   "source": [
    "# Clas Avarage\n",
    "def classAvg(filepath):\n",
    "    with open(filepath,'r') as f:\n",
    "        marks = f.read().split()\n",
    "        ls = [int(x) for x in marks]\n",
    "        res = sum(ls)//len(ls)\n",
    "        print('Class Average:',res)\n",
    "classAvg('DataFiles/marks.txt')"
   ]
  },
  {
   "cell_type": "code",
   "execution_count": 54,
   "metadata": {},
   "outputs": [
    {
     "name": "stdout",
     "output_type": "stream",
     "text": [
      "Percentage of Passed students: 65.0 %\n"
     ]
    }
   ],
   "source": [
    "# % of students passed\n",
    "def percentPassed(filepath):\n",
    "    with open(filepath,'r') as f:\n",
    "        marks = f.read().split()\n",
    "        ls = [int(x) for x in marks if int(x)>=35]\n",
    "        passper = (len(ls)/len(marks))*100\n",
    "        print(\"Percentage of Passed students:\",passper,\"%\")\n",
    "percentPassed('DataFiles/marks.txt')"
   ]
  },
  {
   "cell_type": "code",
   "execution_count": 55,
   "metadata": {},
   "outputs": [
    {
     "name": "stdout",
     "output_type": "stream",
     "text": [
      "Percentage of Failed Students: 35.0 %\n"
     ]
    }
   ],
   "source": [
    "# Percentage Failed\n",
    "def percentFailed(filepath):\n",
    "    with open(filepath,'r') as f:\n",
    "        marks = f.read().split()\n",
    "        ls = [int(x) for x in marks if int(x) < 35]\n",
    "        passper = (len(ls)/len(marks))*100\n",
    "        print(\"Percentage of Failed Students:\",passper,\"%\")\n",
    "percentFailed('DataFiles/marks.txt')"
   ]
  },
  {
   "cell_type": "code",
   "execution_count": 56,
   "metadata": {},
   "outputs": [
    {
     "name": "stdout",
     "output_type": "stream",
     "text": [
      "Percentage of Distinction Students: 26.666666666666668 %\n"
     ]
    }
   ],
   "source": [
    "# Distinction percentage\n",
    "def percenWithDist(filepath):\n",
    "    with open(filepath,'r') as f:\n",
    "        marks = f.read().split()\n",
    "        ls = [int(x) for x in marks if int(x)>=75]\n",
    "        passper = (len(ls)/len(marks))*100\n",
    "        print(\"Percentage of Distinction Students:\",passper,\"%\")\n",
    "percenWithDist('DataFiles/marks.txt')"
   ]
  },
  {
   "cell_type": "code",
   "execution_count": 57,
   "metadata": {},
   "outputs": [
    {
     "name": "stdout",
     "output_type": "stream",
     "text": [
      "Highest Mark is : 98 -> 1 Students\n"
     ]
    }
   ],
   "source": [
    "# Highest marks Frequency\n",
    "def highestFreq(filepath):\n",
    "    with open(filepath,'r') as f:\n",
    "        marks = f.read().split()\n",
    "        ls = [int(x) for x in marks]\n",
    "        count = 0\n",
    "        for i in range(0,len(ls)):\n",
    "            if(ls[i]==max(ls)):\n",
    "                count+=1\n",
    "        print(\"Highest Mark is :\",max(ls),\"->\",count,\"Students\")\n",
    "highestFreq('DataFiles/marks.txt')"
   ]
  },
  {
   "cell_type": "code",
   "execution_count": 58,
   "metadata": {},
   "outputs": [
    {
     "name": "stdout",
     "output_type": "stream",
     "text": [
      "Lowest Mark is : 1 -> 3 Students\n"
     ]
    }
   ],
   "source": [
    "def lowestFreq(filepath):\n",
    "    with open(filepath,'r') as f:\n",
    "        marks = f.read().split()\n",
    "        ls = [int(x) for x in marks]\n",
    "        count = 0\n",
    "        for i in range(0,len(ls)):\n",
    "            if(ls[i]==min(ls)):\n",
    "                count+=1\n",
    "        print(\"Lowest Mark is :\",min(ls),\"->\",count,\"Students\")\n",
    "lowestFreq('DataFiles/marks.txt')"
   ]
  },
  {
   "cell_type": "code",
   "execution_count": 59,
   "metadata": {
    "scrolled": true
   },
   "outputs": [
    {
     "name": "stdout",
     "output_type": "stream",
     "text": [
      "Classs Report:\n",
      "Class Average: 47\n",
      "Percentage of Passed students: 65.0 %\n",
      "Percentage of Failed Students: 35.0 %\n",
      "Percentage of Distinction Students: 26.666666666666668 %\n",
      "Highest Mark is : 98 -> 1 Students\n",
      "Lowest Mark is : 1 -> 3 Students\n"
     ]
    }
   ],
   "source": [
    "# get class report\n",
    "def classReport():\n",
    "    filepath = 'DataFiles/marks.txt'\n",
    "    print(\"Classs Report:\")\n",
    "    classAvg(filepath)\n",
    "    percentPassed(filepath)\n",
    "    percentFailed(filepath)\n",
    "    percenWithDist(filepath)\n",
    "    highestFreq(filepath)\n",
    "    lowestFreq(filepath)\n",
    "    return\n",
    "classReport()"
   ]
  },
  {
   "cell_type": "code",
   "execution_count": null,
   "metadata": {},
   "outputs": [],
   "source": []
  }
 ],
 "metadata": {
  "kernelspec": {
   "display_name": "Python 3",
   "language": "python",
   "name": "python3"
  },
  "language_info": {
   "codemirror_mode": {
    "name": "ipython",
    "version": 3
   },
   "file_extension": ".py",
   "mimetype": "text/x-python",
   "name": "python",
   "nbconvert_exporter": "python",
   "pygments_lexer": "ipython3",
   "version": "3.7.3"
  }
 },
 "nbformat": 4,
 "nbformat_minor": 2
}
