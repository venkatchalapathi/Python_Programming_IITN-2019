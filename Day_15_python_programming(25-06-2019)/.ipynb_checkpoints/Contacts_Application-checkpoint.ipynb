{
 "cells": [
  {
   "cell_type": "markdown",
   "metadata": {},
   "source": [
    "## Roy and Profile Picture\n"
   ]
  },
  {
   "cell_type": "code",
   "execution_count": null,
   "metadata": {},
   "outputs": [],
   "source": []
  },
  {
   "cell_type": "code",
   "execution_count": null,
   "metadata": {},
   "outputs": [],
   "source": []
  },
  {
   "cell_type": "code",
   "execution_count": null,
   "metadata": {},
   "outputs": [],
   "source": []
  },
  {
   "cell_type": "markdown",
   "metadata": {},
   "source": [
    "# Contacts Application"
   ]
  },
  {
   "cell_type": "markdown",
   "metadata": {},
   "source": [
    "* Add Contacts"
   ]
  },
  {
   "cell_type": "code",
   "execution_count": 3,
   "metadata": {},
   "outputs": [
    {
     "name": "stdout",
     "output_type": "stream",
     "text": [
      "Invalid data,either email or phone number is invalid\n"
     ]
    }
   ],
   "source": [
    "# Function to add the contacts to file\n",
    "import packages.validator as ff # form packages import validator\n",
    "\n",
    "def addCon(name,number,email):\n",
    "    filename = 'DataFiles/data.txt'\n",
    "    if ff.isEmailValid(email) and ff.phoneValidator(number):\n",
    "        if checkContactExists(name):\n",
    "            print(\"Contact Exists.\")\n",
    "        else:\n",
    "            with open(filename,'a') as f:\n",
    "                f.writelines(name+','+str(number)+','+email+'\\n')\n",
    "    else:\n",
    "        print(\"Invalid data,either email or phone number is invalid\")\n",
    "            \n",
    "addCon('Chaam',5898989898,'.venkat.pv71@gmail.com')"
   ]
  },
  {
   "cell_type": "code",
   "execution_count": 4,
   "metadata": {},
   "outputs": [],
   "source": [
    "import re\n",
    "def checkContactExists(name):\n",
    "    filename = 'DataFiles/data.txt'\n",
    "    with open(filename,'r') as f:\n",
    "        filedata = f.read()\n",
    "        pattern = name+','\n",
    "    return re.search(pattern,filedata)   "
   ]
  },
  {
   "cell_type": "code",
   "execution_count": 5,
   "metadata": {},
   "outputs": [
    {
     "data": {
      "text/plain": [
       "[]"
      ]
     },
     "execution_count": 5,
     "metadata": {},
     "output_type": "execute_result"
    }
   ],
   "source": [
    "# files to list\n",
    "\n",
    "def contacts2List(name):\n",
    "    ls = []\n",
    "    with open(name,'r') as f:\n",
    "        for line in f:\n",
    "            ls.append(line.split(','))\n",
    "    return ls\n",
    "ls = contacts2List('DataFiles/data.txt')\n",
    "ls"
   ]
  },
  {
   "cell_type": "code",
   "execution_count": 6,
   "metadata": {},
   "outputs": [
    {
     "data": {
      "text/plain": [
       "''"
      ]
     },
     "execution_count": 6,
     "metadata": {},
     "output_type": "execute_result"
    }
   ],
   "source": [
    "def list2Contacts(ls):\n",
    "    s = ''\n",
    "    for i in range(0,len(ls)):\n",
    "        lls = ls[i]\n",
    "        for j in range(0,len(lls)):\n",
    "            s+=str(lls[j])+','\n",
    "    return s\n",
    "list2Contacts(ls)"
   ]
  },
  {
   "cell_type": "code",
   "execution_count": 7,
   "metadata": {},
   "outputs": [],
   "source": [
    "# Edit the Contacts in a file\n",
    "\n",
    "def editContact(name,number,email):\n",
    "    ls = contacts2List('DataFiles/data.txt')\n",
    "    for i in range(0,len(ls)):\n",
    "        lss = ls[i]\n",
    "        for j in range(0,len(lss)):\n",
    "            if(name == lss[j]):\n",
    "                lss[0] = name\n",
    "                lss[1] = number\n",
    "                lss[2] = email\n",
    "                print(name,\" Updated..\")    \n",
    "            else:\n",
    "                print(\"not updated\")\n",
    "    s=list2Contacts(ls)\n",
    "    save2File(s)\n",
    "    return s"
   ]
  },
  {
   "cell_type": "code",
   "execution_count": 8,
   "metadata": {},
   "outputs": [],
   "source": [
    "def save2File(s):\n",
    "    with open(\"DataFiles/data.txt\",'w') as f:\n",
    "        f.write(s)\n",
    "        print(\"Data updated...\")"
   ]
  },
  {
   "cell_type": "code",
   "execution_count": 9,
   "metadata": {},
   "outputs": [
    {
     "name": "stdout",
     "output_type": "stream",
     "text": [
      "Data updated...\n"
     ]
    },
    {
     "data": {
      "text/plain": [
       "''"
      ]
     },
     "execution_count": 9,
     "metadata": {},
     "output_type": "execute_result"
    }
   ],
   "source": [
    "temp = editContact('venkat',8978532078,'gopalsir@gmail.com')\n",
    "temp\n"
   ]
  },
  {
   "cell_type": "code",
   "execution_count": 15,
   "metadata": {},
   "outputs": [],
   "source": [
    "addCon('DataFiles/data.txt','Mastan',9878685848,'mastansir@gmail.com')"
   ]
  },
  {
   "cell_type": "code",
   "execution_count": 16,
   "metadata": {},
   "outputs": [
    {
     "name": "stdout",
     "output_type": "stream",
     "text": [
      "Mastan  Updated..\n",
      "not updated\n",
      "not updated\n",
      "Data updated...\n"
     ]
    },
    {
     "data": {
      "text/plain": [
       "'Mastan,9493872308,gopalsir@gmail.com,'"
      ]
     },
     "execution_count": 16,
     "metadata": {},
     "output_type": "execute_result"
    }
   ],
   "source": [
    "editContact('Mastan',9493872308,'gopalsir@gmail.com')"
   ]
  },
  {
   "cell_type": "code",
   "execution_count": 18,
   "metadata": {},
   "outputs": [],
   "source": [
    "#Delete the contact\n",
    "def deleteContact(name):\n",
    "    ls = contacts2List('DataFiles/data.txt')\n",
    "    for i in range(0,len(ls)):\n",
    "        lss = ls[i]\n",
    "        for j in range(0,len(lss)):\n",
    "            if(name == lss[j]):\n",
    "                ls.pop(i)\n",
    "                print(name,\" Deleted..\")    \n",
    "            else:\n",
    "                print(\"not Deleted\")\n",
    "    s=list2Contacts(ls)\n",
    "    save2File(s)\n",
    "    return s"
   ]
  },
  {
   "cell_type": "code",
   "execution_count": 19,
   "metadata": {},
   "outputs": [
    {
     "name": "stdout",
     "output_type": "stream",
     "text": [
      "Mastan  Deleted..\n",
      "not Deleted\n",
      "not Deleted\n",
      "not Deleted\n",
      "Data updated...\n"
     ]
    },
    {
     "data": {
      "text/plain": [
       "''"
      ]
     },
     "execution_count": 19,
     "metadata": {},
     "output_type": "execute_result"
    }
   ],
   "source": [
    "deleteContact('Mastan')"
   ]
  },
  {
   "cell_type": "code",
   "execution_count": 119,
   "metadata": {},
   "outputs": [
    {
     "data": {
      "text/plain": [
       "123"
      ]
     },
     "execution_count": 119,
     "metadata": {},
     "output_type": "execute_result"
    }
   ],
   "source": [
    "ll.pop(0)"
   ]
  },
  {
   "cell_type": "code",
   "execution_count": 120,
   "metadata": {},
   "outputs": [
    {
     "data": {
      "text/plain": [
       "[123, 4321, 21312]"
      ]
     },
     "execution_count": 120,
     "metadata": {},
     "output_type": "execute_result"
    }
   ],
   "source": [
    "ll"
   ]
  },
  {
   "cell_type": "code",
   "execution_count": 122,
   "metadata": {},
   "outputs": [
    {
     "data": {
      "text/plain": [
       "4321"
      ]
     },
     "execution_count": 122,
     "metadata": {},
     "output_type": "execute_result"
    }
   ],
   "source": [
    "ll.pop(1)"
   ]
  },
  {
   "cell_type": "code",
   "execution_count": 123,
   "metadata": {},
   "outputs": [
    {
     "data": {
      "text/plain": [
       "[123, 21312]"
      ]
     },
     "execution_count": 123,
     "metadata": {},
     "output_type": "execute_result"
    }
   ],
   "source": [
    "ll"
   ]
  },
  {
   "cell_type": "code",
   "execution_count": null,
   "metadata": {},
   "outputs": [],
   "source": []
  }
 ],
 "metadata": {
  "kernelspec": {
   "display_name": "Python 3",
   "language": "python",
   "name": "python3"
  },
  "language_info": {
   "codemirror_mode": {
    "name": "ipython",
    "version": 3
   },
   "file_extension": ".py",
   "mimetype": "text/x-python",
   "name": "python",
   "nbconvert_exporter": "python",
   "pygments_lexer": "ipython3",
   "version": "3.7.3"
  }
 },
 "nbformat": 4,
 "nbformat_minor": 2
}
