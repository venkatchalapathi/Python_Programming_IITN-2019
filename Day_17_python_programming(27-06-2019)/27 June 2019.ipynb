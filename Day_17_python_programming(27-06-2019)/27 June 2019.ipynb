{
 "cells": [
  {
   "cell_type": "code",
   "execution_count": 20,
   "metadata": {},
   "outputs": [
    {
     "name": "stdout",
     "output_type": "stream",
     "text": [
      "(1, 2)\n",
      "(1, 3)\n",
      "(1, 3)\n",
      "(2, 3)\n",
      "(2, 3)\n",
      "(3, 3)\n",
      "[(1, 2), (1, 3), (1, 3), (2, 3), (2, 3), (3, 3)]\n"
     ]
    }
   ],
   "source": [
    "# Function ro print all combinations of pairs integers in a unique list\n",
    "# [1,2,3] -> (1,2),(1,2),(2,3) - 3c2 = 3!/((3-2)!*2!)\n",
    "\n",
    "def combinationsOfTwo(ls):\n",
    "    comb = []\n",
    "    for i in range(0,len(ls)):\n",
    "        tu = ()\n",
    "        for j in range(i+1,len(ls)):\n",
    "            tu = (ls[i],ls[j])\n",
    "            print(tu)\n",
    "            comb.append(tu)\n",
    "    print(comb)\n",
    "combinations([1,2,3,3])"
   ]
  },
  {
   "cell_type": "code",
   "execution_count": 24,
   "metadata": {},
   "outputs": [
    {
     "name": "stdout",
     "output_type": "stream",
     "text": [
      "(1, 2, 3)\n",
      "(1, 2, 3)\n",
      "(1, 3, 3)\n",
      "(2, 3, 3)\n",
      "Total 4 ,Combinations are: [(1, 2, 3), (1, 2, 3), (1, 3, 3), (2, 3, 3)]\n",
      "(1, 2, 3)\n"
     ]
    }
   ],
   "source": [
    "def combinationsOfThree(ls):\n",
    "    comb = []\n",
    "    for i in range(0,len(ls)-2):\n",
    "        tu = ()\n",
    "        for j in range(i+1,len(ls)):\n",
    "            for k in range(j+1,len(ls)):\n",
    "                tu = (ls[i],ls[j],ls[k])\n",
    "                print(tu)\n",
    "                comb.append(tu)\n",
    "    print(\"Total\",len(comb),\",Combinations are:\",comb)\n",
    "    print(comb[0])\n",
    "combinationsOfThree([1,2,3,3])"
   ]
  },
  {
   "cell_type": "code",
   "execution_count": 13,
   "metadata": {},
   "outputs": [],
   "source": [
    "# Combinations of Kth\n",
    "#def comnationKth(ls,k):\n",
    " #   comb = []\n",
    "  #  for i in range(0,k):\n",
    "        "
   ]
  },
  {
   "cell_type": "code",
   "execution_count": null,
   "metadata": {},
   "outputs": [],
   "source": []
  },
  {
   "cell_type": "code",
   "execution_count": 15,
   "metadata": {},
   "outputs": [
    {
     "name": "stdout",
     "output_type": "stream",
     "text": [
      "8\n"
     ]
    }
   ],
   "source": [
    "t = (11,3)\n",
    "print(abs(t[0]-t[1]))"
   ]
  },
  {
   "cell_type": "code",
   "execution_count": 1,
   "metadata": {},
   "outputs": [],
   "source": [
    "def diffPairs(ls):\n",
    "    temp = ls\n",
    "    i = 0\n",
    "    lenght = len(ls)\n",
    "    while(len(ls)>0):\n",
    "        i+=1\n",
    "        dup = defPairList(ls)\n",
    "        ls = temp.extend(dup)\n",
    "        print(dup)\n",
    "    return i\n",
    "        "
   ]
  },
  {
   "cell_type": "code",
   "execution_count": null,
   "metadata": {},
   "outputs": [],
   "source": []
  },
  {
   "cell_type": "code",
   "execution_count": 2,
   "metadata": {},
   "outputs": [
    {
     "data": {
      "text/plain": [
       "[501,\n",
       " 500,\n",
       " 499,\n",
       " 498,\n",
       " 497,\n",
       " 496,\n",
       " 495,\n",
       " 494,\n",
       " 493,\n",
       " 492,\n",
       " 491,\n",
       " 490,\n",
       " 489,\n",
       " 488,\n",
       " 487,\n",
       " 486,\n",
       " 485,\n",
       " 484,\n",
       " 483,\n",
       " 482,\n",
       " 481,\n",
       " 480,\n",
       " 479,\n",
       " 478,\n",
       " 477,\n",
       " 476,\n",
       " 475,\n",
       " 474,\n",
       " 473,\n",
       " 472,\n",
       " 471,\n",
       " 470,\n",
       " 469,\n",
       " 468,\n",
       " 467,\n",
       " 466,\n",
       " 465,\n",
       " 464,\n",
       " 463,\n",
       " 462,\n",
       " 461,\n",
       " 460,\n",
       " 459,\n",
       " 458,\n",
       " 457,\n",
       " 456,\n",
       " 455,\n",
       " 454,\n",
       " 453,\n",
       " 452,\n",
       " 451,\n",
       " 450,\n",
       " 449,\n",
       " 448,\n",
       " 447,\n",
       " 446,\n",
       " 445,\n",
       " 444,\n",
       " 443,\n",
       " 442,\n",
       " 441,\n",
       " 440,\n",
       " 439,\n",
       " 438,\n",
       " 437,\n",
       " 436,\n",
       " 435,\n",
       " 434,\n",
       " 433,\n",
       " 432,\n",
       " 431,\n",
       " 430,\n",
       " 429,\n",
       " 428,\n",
       " 427,\n",
       " 426,\n",
       " 425,\n",
       " 424,\n",
       " 423,\n",
       " 422,\n",
       " 421,\n",
       " 420,\n",
       " 419,\n",
       " 418,\n",
       " 417,\n",
       " 416,\n",
       " 415,\n",
       " 414,\n",
       " 413,\n",
       " 412,\n",
       " 411,\n",
       " 410,\n",
       " 409,\n",
       " 408,\n",
       " 407,\n",
       " 406,\n",
       " 405,\n",
       " 404,\n",
       " 403,\n",
       " 402,\n",
       " 401,\n",
       " 400,\n",
       " 399,\n",
       " 398,\n",
       " 397,\n",
       " 396,\n",
       " 395,\n",
       " 394,\n",
       " 393,\n",
       " 392,\n",
       " 391,\n",
       " 390,\n",
       " 389,\n",
       " 388,\n",
       " 387,\n",
       " 386,\n",
       " 385,\n",
       " 384,\n",
       " 383,\n",
       " 382,\n",
       " 381,\n",
       " 380,\n",
       " 379,\n",
       " 378,\n",
       " 377,\n",
       " 376,\n",
       " 375,\n",
       " 374,\n",
       " 373,\n",
       " 372,\n",
       " 371,\n",
       " 370,\n",
       " 369,\n",
       " 368,\n",
       " 367,\n",
       " 366,\n",
       " 365,\n",
       " 364,\n",
       " 363,\n",
       " 362,\n",
       " 361,\n",
       " 360,\n",
       " 359,\n",
       " 358,\n",
       " 357,\n",
       " 356,\n",
       " 355,\n",
       " 354,\n",
       " 353,\n",
       " 352,\n",
       " 351,\n",
       " 350,\n",
       " 349,\n",
       " 348,\n",
       " 347,\n",
       " 346,\n",
       " 345,\n",
       " 344,\n",
       " 343,\n",
       " 342,\n",
       " 341,\n",
       " 340,\n",
       " 339,\n",
       " 338,\n",
       " 337,\n",
       " 336,\n",
       " 335,\n",
       " 334,\n",
       " 333,\n",
       " 332,\n",
       " 331,\n",
       " 330,\n",
       " 329,\n",
       " 328,\n",
       " 327,\n",
       " 326,\n",
       " 325,\n",
       " 324,\n",
       " 323,\n",
       " 322,\n",
       " 321,\n",
       " 320,\n",
       " 319,\n",
       " 318,\n",
       " 317,\n",
       " 316,\n",
       " 315,\n",
       " 314,\n",
       " 313,\n",
       " 312,\n",
       " 311,\n",
       " 310,\n",
       " 309,\n",
       " 308,\n",
       " 307,\n",
       " 306,\n",
       " 305,\n",
       " 304,\n",
       " 303,\n",
       " 302,\n",
       " 301,\n",
       " 300,\n",
       " 299,\n",
       " 298,\n",
       " 297,\n",
       " 296,\n",
       " 295,\n",
       " 294,\n",
       " 293,\n",
       " 292,\n",
       " 291,\n",
       " 290,\n",
       " 289,\n",
       " 288,\n",
       " 287,\n",
       " 286,\n",
       " 285,\n",
       " 284,\n",
       " 283,\n",
       " 282,\n",
       " 281,\n",
       " 280,\n",
       " 279,\n",
       " 278,\n",
       " 277,\n",
       " 276,\n",
       " 275,\n",
       " 274,\n",
       " 273,\n",
       " 272,\n",
       " 271,\n",
       " 270,\n",
       " 269,\n",
       " 268,\n",
       " 267,\n",
       " 266,\n",
       " 265,\n",
       " 264,\n",
       " 263,\n",
       " 262,\n",
       " 261,\n",
       " 260,\n",
       " 259,\n",
       " 258,\n",
       " 257,\n",
       " 256,\n",
       " 255,\n",
       " 254,\n",
       " 253,\n",
       " 252,\n",
       " 251,\n",
       " 250,\n",
       " 249,\n",
       " 248,\n",
       " 247,\n",
       " 246,\n",
       " 245,\n",
       " 244,\n",
       " 243,\n",
       " 242,\n",
       " 241,\n",
       " 240,\n",
       " 239,\n",
       " 238,\n",
       " 237,\n",
       " 236,\n",
       " 235,\n",
       " 234,\n",
       " 233,\n",
       " 232,\n",
       " 231,\n",
       " 230,\n",
       " 229,\n",
       " 228,\n",
       " 227,\n",
       " 226,\n",
       " 225,\n",
       " 224,\n",
       " 223,\n",
       " 222,\n",
       " 221,\n",
       " 220,\n",
       " 219,\n",
       " 218,\n",
       " 217,\n",
       " 216,\n",
       " 215,\n",
       " 214,\n",
       " 213,\n",
       " 212,\n",
       " 211,\n",
       " 210,\n",
       " 209,\n",
       " 208,\n",
       " 207,\n",
       " 206,\n",
       " 205,\n",
       " 204,\n",
       " 203,\n",
       " 202,\n",
       " 201,\n",
       " 200,\n",
       " 199,\n",
       " 198,\n",
       " 197,\n",
       " 196,\n",
       " 195,\n",
       " 194,\n",
       " 193,\n",
       " 192,\n",
       " 191,\n",
       " 190,\n",
       " 189,\n",
       " 188,\n",
       " 187,\n",
       " 186,\n",
       " 185,\n",
       " 184,\n",
       " 183,\n",
       " 182,\n",
       " 181,\n",
       " 180,\n",
       " 179,\n",
       " 178,\n",
       " 177,\n",
       " 176,\n",
       " 175,\n",
       " 174,\n",
       " 173,\n",
       " 172,\n",
       " 171,\n",
       " 170,\n",
       " 169,\n",
       " 168,\n",
       " 167,\n",
       " 166,\n",
       " 165,\n",
       " 164,\n",
       " 163,\n",
       " 162,\n",
       " 161,\n",
       " 160,\n",
       " 159,\n",
       " 158,\n",
       " 157,\n",
       " 156,\n",
       " 155,\n",
       " 154,\n",
       " 153,\n",
       " 152,\n",
       " 151,\n",
       " 150,\n",
       " 149,\n",
       " 148,\n",
       " 147,\n",
       " 146,\n",
       " 145,\n",
       " 144,\n",
       " 143,\n",
       " 142,\n",
       " 141,\n",
       " 140,\n",
       " 139,\n",
       " 138,\n",
       " 137,\n",
       " 136,\n",
       " 135,\n",
       " 134,\n",
       " 133,\n",
       " 132,\n",
       " 131,\n",
       " 130,\n",
       " 129,\n",
       " 128,\n",
       " 127,\n",
       " 126,\n",
       " 125,\n",
       " 124,\n",
       " 123,\n",
       " 122,\n",
       " 121,\n",
       " 120,\n",
       " 119,\n",
       " 118,\n",
       " 117,\n",
       " 116,\n",
       " 115,\n",
       " 114,\n",
       " 113,\n",
       " 112,\n",
       " 111,\n",
       " 110,\n",
       " 109,\n",
       " 108,\n",
       " 107,\n",
       " 106,\n",
       " 105,\n",
       " 104,\n",
       " 103,\n",
       " 102,\n",
       " 101,\n",
       " 100,\n",
       " 99,\n",
       " 98,\n",
       " 97,\n",
       " 96,\n",
       " 95,\n",
       " 94,\n",
       " 93,\n",
       " 92,\n",
       " 91,\n",
       " 90,\n",
       " 89,\n",
       " 88,\n",
       " 87,\n",
       " 86,\n",
       " 85,\n",
       " 84,\n",
       " 83,\n",
       " 82,\n",
       " 81,\n",
       " 80,\n",
       " 79,\n",
       " 78,\n",
       " 77,\n",
       " 76,\n",
       " 75,\n",
       " 74,\n",
       " 73,\n",
       " 72,\n",
       " 71,\n",
       " 70,\n",
       " 69,\n",
       " 68,\n",
       " 67,\n",
       " 66,\n",
       " 65,\n",
       " 64,\n",
       " 63,\n",
       " 62,\n",
       " 61,\n",
       " 60,\n",
       " 59,\n",
       " 58,\n",
       " 57,\n",
       " 56,\n",
       " 55,\n",
       " 54,\n",
       " 53,\n",
       " 52,\n",
       " 51,\n",
       " 50,\n",
       " 49,\n",
       " 48,\n",
       " 47,\n",
       " 46,\n",
       " 45,\n",
       " 44,\n",
       " 43,\n",
       " 42,\n",
       " 41,\n",
       " 40,\n",
       " 39,\n",
       " 38,\n",
       " 37,\n",
       " 36,\n",
       " 35,\n",
       " 34,\n",
       " 33,\n",
       " 32,\n",
       " 31,\n",
       " 30,\n",
       " 29,\n",
       " 28,\n",
       " 27,\n",
       " 26,\n",
       " 25,\n",
       " 24,\n",
       " 23,\n",
       " 22,\n",
       " 21,\n",
       " 20,\n",
       " 19,\n",
       " 18,\n",
       " 17,\n",
       " 16,\n",
       " 15,\n",
       " 14,\n",
       " 13,\n",
       " 12,\n",
       " 11,\n",
       " 10,\n",
       " 9,\n",
       " 8,\n",
       " 7,\n",
       " 6,\n",
       " 5,\n",
       " 4,\n",
       " 3,\n",
       " 2,\n",
       " 1]"
      ]
     },
     "execution_count": 2,
     "metadata": {},
     "output_type": "execute_result"
    }
   ],
   "source": [
    "def defPairList(ls):\n",
    "    for i in range(0,len(ls)-1):\n",
    "        for j in range(i+1,len(ls)):\n",
    "            d = abs(ls[i]-ls[j])\n",
    "            if d not in ls:\n",
    "                ls.append(d)\n",
    "                defPairList(ls)\n",
    "    ls = sorted(ls,reverse=True)\n",
    "    #print(ls(k-1))\n",
    "    return ls\n",
    "defPairList([20,40,501])"
   ]
  },
  {
   "cell_type": "code",
   "execution_count": 18,
   "metadata": {},
   "outputs": [],
   "source": [
    "def kthLargest(ls,k):\n",
    "    ls = defPairList(ls)\n",
    "    print(ls[k-1])\n"
   ]
  },
  {
   "cell_type": "code",
   "execution_count": 19,
   "metadata": {},
   "outputs": [
    {
     "name": "stdout",
     "output_type": "stream",
     "text": [
      "7\n"
     ]
    }
   ],
   "source": [
    "kthLargest([1,9],3)"
   ]
  },
  {
   "cell_type": "code",
   "execution_count": 32,
   "metadata": {},
   "outputs": [
    {
     "data": {
      "text/plain": [
       "[1, 2, 3, 4, 5]"
      ]
     },
     "execution_count": 32,
     "metadata": {},
     "output_type": "execute_result"
    }
   ],
   "source": [
    "def difPractice(ls):\n",
    "    for i in range(0,len(ls)-1):\n",
    "        for j in range(i+1,len(ls)):\n",
    "            d = abs(ls[i]-ls[j])\n",
    "            if d not in ls:\n",
    "                ls.append(d)\n",
    "                \n",
    "    ls = sorted(ls,reverse=True)\n",
    "    #print(ls(k-1))\n",
    "    return ls\n",
    "defPairList([20,40,501])"
   ]
  },
  {
   "cell_type": "markdown",
   "metadata": {},
   "source": [
    "- Identify differences of all pairs of numbers in the list and \n",
    "- Add those differences to the same list\n",
    "- It returns the updated list and original list\n",
    "- Convert the list into Arithmetic Progression\n"
   ]
  },
  {
   "cell_type": "code",
   "execution_count": null,
   "metadata": {},
   "outputs": [],
   "source": [
    "# Identify differences of all pairs of numbers in the list and \n",
    "# Add those differences to the same list\n",
    "# It Returns the original updated list\n",
    "# [4,8] -> Constant List\n",
    "# [4,8,12] -> Constant List\n",
    "# [3,6,9,12] -> Constant List\n",
    "\n",
    "# For a list to be constant -> The elements must be of equivalent \n",
    "# difference \n",
    "\n",
    "# To get a constant list from any given list we are supposed to \n",
    "# convert the existing list to an arithmetic progression\n",
    "\n",
    "# [3,8] -> [3,8,5,2,1,4,7,9,10,11,12,13,14,15]\n"
   ]
  },
  {
   "cell_type": "code",
   "execution_count": null,
   "metadata": {},
   "outputs": [],
   "source": [
    "a = 1,2,3\n",
    "b = 1,3,2\n",
    "a = b.copy()\n",
    "a = b[:]\n",
    "a = b\n",
    "b.append(4)\n",
    "a.append()"
   ]
  },
  {
   "cell_type": "code",
   "execution_count": 14,
   "metadata": {},
   "outputs": [],
   "source": [
    "def diff(li):\n",
    "    c = li.copy()\n",
    "    newelements = []\n",
    "    for i in range(len(li)-1):\n",
    "        for j in range(i+1,len(li)):\n",
    "            d = abs(li[i]-li[j])\n",
    "            if d not in li and d not in newelements:\n",
    "                newelements.append(d)\n",
    "    newelements\n",
    "    return li\n"
   ]
  },
  {
   "cell_type": "code",
   "execution_count": 16,
   "metadata": {},
   "outputs": [],
   "source": [
    "def getAll(li):\n",
    "    while(True):\n",
    "        li = diff(li)\n",
    "        if li[0]==li[1]:\n",
    "            break\n",
    "    if len(len(le[0])==k):\n",
    "        return sorted(li[0],reverse=True)[k-1]\n",
    "    return -1"
   ]
  },
  {
   "cell_type": "markdown",
   "metadata": {},
   "source": [
    "# Set - Data Structures in python\n",
    "- Mutable in nature\n",
    "- set Obect doesn't has a index\n",
    "- by default set doesnot follow the sort order\n"
   ]
  },
  {
   "cell_type": "code",
   "execution_count": 19,
   "metadata": {},
   "outputs": [],
   "source": [
    "a = {1,2,3,4,5,6}"
   ]
  },
  {
   "cell_type": "code",
   "execution_count": 18,
   "metadata": {},
   "outputs": [
    {
     "data": {
      "text/plain": [
       "{1, 2, 3, 4, 5, 6}"
      ]
     },
     "execution_count": 18,
     "metadata": {},
     "output_type": "execute_result"
    }
   ],
   "source": [
    "a"
   ]
  },
  {
   "cell_type": "code",
   "execution_count": 26,
   "metadata": {},
   "outputs": [
    {
     "name": "stdout",
     "output_type": "stream",
     "text": [
      "1 2 3 4 5 "
     ]
    }
   ],
   "source": [
    "a = {1,2,3,4,5}\n",
    "for i in a:\n",
    "    print(i,end=\" \")"
   ]
  },
  {
   "cell_type": "code",
   "execution_count": 41,
   "metadata": {},
   "outputs": [],
   "source": [
    "a.add(-1)"
   ]
  },
  {
   "cell_type": "code",
   "execution_count": 42,
   "metadata": {},
   "outputs": [
    {
     "data": {
      "text/plain": [
       "{-1, '-7', 1, 2, 3, 4, 5, 7, '7', 8, 9}"
      ]
     },
     "execution_count": 42,
     "metadata": {},
     "output_type": "execute_result"
    }
   ],
   "source": [
    "a"
   ]
  },
  {
   "cell_type": "code",
   "execution_count": 34,
   "metadata": {},
   "outputs": [
    {
     "data": {
      "text/plain": [
       "{1, 2, 3, 4, 5, 7, 8, 9}"
      ]
     },
     "execution_count": 34,
     "metadata": {},
     "output_type": "execute_result"
    }
   ],
   "source": [
    "# Adding multiple elements\n",
    "b = {9,8,7}\n",
    "a.update(b)\n",
    "a"
   ]
  },
  {
   "cell_type": "code",
   "execution_count": 50,
   "metadata": {},
   "outputs": [],
   "source": [
    "# removing last elements in a set\n",
    "a.discard('-7')\n",
    "a.remove(1)"
   ]
  },
  {
   "cell_type": "code",
   "execution_count": 61,
   "metadata": {},
   "outputs": [
    {
     "name": "stdout",
     "output_type": "stream",
     "text": [
      "{1, 2, 3, 4, 5, 6}\n",
      "{1, 2, 3, 4, 5, 6}\n"
     ]
    }
   ],
   "source": [
    "# Union Operation \n",
    "# Not repeated value\n",
    "a = {1,2,3,4}\n",
    "b = {4,5,6}\n",
    "print(a.union(b))\n",
    "# A U B = B U A\n",
    "print(b.union(a))"
   ]
  },
  {
   "cell_type": "code",
   "execution_count": 69,
   "metadata": {},
   "outputs": [
    {
     "data": {
      "text/plain": [
       "{2, 4}"
      ]
     },
     "execution_count": 69,
     "metadata": {},
     "output_type": "execute_result"
    }
   ],
   "source": [
    "# Intersect of a sets\n",
    "# Common elements in a set\n",
    "a = {1,2,4}\n",
    "b = {2,3,4,5,6}\n",
    "a.intersection(b)\n"
   ]
  },
  {
   "cell_type": "code",
   "execution_count": 72,
   "metadata": {},
   "outputs": [
    {
     "name": "stdout",
     "output_type": "stream",
     "text": [
      "True\n",
      "False\n"
     ]
    }
   ],
   "source": [
    "# Isdisjoint set\n",
    "# If there are no common elements in a given sets returns True\n",
    "a = {1,2,3}\n",
    "b = {4,5,6}\n",
    "c = {2,7,8}\n",
    "print(a.isdisjoint(b))\n",
    "print(a.isdisjoint(c))\n",
    "\n"
   ]
  },
  {
   "cell_type": "code",
   "execution_count": 76,
   "metadata": {},
   "outputs": [
    {
     "data": {
      "text/plain": [
       "{4, 5}"
      ]
     },
     "execution_count": 76,
     "metadata": {},
     "output_type": "execute_result"
    }
   ],
   "source": [
    "# a - b returns common elements are removed\n",
    "a = {1,2,3}\n",
    "b = {1,4,5}\n",
    "a-b # elements present in a not in b\n",
    "b-a # elements present in b not in a"
   ]
  },
  {
   "cell_type": "code",
   "execution_count": 79,
   "metadata": {},
   "outputs": [
    {
     "data": {
      "text/plain": [
       "[1, 2, 3]"
      ]
     },
     "execution_count": 79,
     "metadata": {},
     "output_type": "execute_result"
    }
   ],
   "source": [
    "# Converting set into a list\n",
    "sorted(a)"
   ]
  },
  {
   "cell_type": "code",
   "execution_count": 80,
   "metadata": {},
   "outputs": [
    {
     "data": {
      "text/plain": [
       "{2, 3, 4, 5}"
      ]
     },
     "execution_count": 80,
     "metadata": {},
     "output_type": "execute_result"
    }
   ],
   "source": [
    "# Elements either in a or in b ,Uncommon elements in both sets\n",
    "a^b"
   ]
  },
  {
   "cell_type": "code",
   "execution_count": 86,
   "metadata": {},
   "outputs": [
    {
     "data": {
      "text/plain": [
       "set()"
      ]
     },
     "execution_count": 86,
     "metadata": {},
     "output_type": "execute_result"
    }
   ],
   "source": [
    "d = set()#Set initialization \n",
    "d"
   ]
  },
  {
   "cell_type": "code",
   "execution_count": 89,
   "metadata": {},
   "outputs": [
    {
     "data": {
      "text/plain": [
       "{1, 2, 3, 4, 5, 6}"
      ]
     },
     "execution_count": 89,
     "metadata": {},
     "output_type": "execute_result"
    }
   ],
   "source": [
    "li = [1,2,3,4,5,6,3,5,6]\n",
    "u = set(li)\n",
    "u"
   ]
  },
  {
   "cell_type": "markdown",
   "metadata": {},
   "source": [
    "- Procedural : C\n",
    "- Object Oriented : Java,Python\n",
    "- Scripting  : PHP, Python,Java Script,Perl\n",
    "- Functional : Python,Kaskel,Scala\n",
    "- Logic : Prolog ,Lisp"
   ]
  },
  {
   "cell_type": "markdown",
   "metadata": {},
   "source": [
    "# Functional Programming"
   ]
  },
  {
   "cell_type": "markdown",
   "metadata": {},
   "source": [
    "## 1.List Comprehension\n"
   ]
  },
  {
   "cell_type": "code",
   "execution_count": 91,
   "metadata": {},
   "outputs": [
    {
     "data": {
      "text/plain": [
       "[1, 2, 3, 4, 5, 6, 7, 8, 9, 10]"
      ]
     },
     "execution_count": 91,
     "metadata": {},
     "output_type": "execute_result"
    }
   ],
   "source": [
    "# N natural numbers in a list\n",
    "n = 10\n",
    "ls = []\n",
    "for i in range(1,n+1):\n",
    "    ls.append(i)\n",
    "ls"
   ]
  },
  {
   "cell_type": "code",
   "execution_count": 100,
   "metadata": {},
   "outputs": [
    {
     "data": {
      "text/plain": [
       "[1, 2, 3, 4, 5, 6, 7, 8, 9, 10]"
      ]
     },
     "execution_count": 100,
     "metadata": {},
     "output_type": "execute_result"
    }
   ],
   "source": [
    "# N natural numbers using List Comprehension\n",
    "li = [i for i in range(1,11)]\n",
    "li"
   ]
  },
  {
   "cell_type": "code",
   "execution_count": 109,
   "metadata": {},
   "outputs": [
    {
     "data": {
      "text/plain": [
       "[2, 4, 6, 8, 10]"
      ]
     },
     "execution_count": 109,
     "metadata": {},
     "output_type": "execute_result"
    }
   ],
   "source": [
    "# N cubes of n natural number\n",
    "li = [i for i in range(1,11) if i%2==0]\n",
    "li"
   ]
  },
  {
   "cell_type": "code",
   "execution_count": 113,
   "metadata": {},
   "outputs": [
    {
     "data": {
      "text/plain": [
       "24"
      ]
     },
     "execution_count": 113,
     "metadata": {},
     "output_type": "execute_result"
    }
   ],
   "source": [
    "# Function to Caluculate the Factorial number\n",
    "def factorial(n):\n",
    "    if n==0 or n == 1:\n",
    "        return 1\n",
    "    return n*factorial(n-1)\n",
    "factorial(4)"
   ]
  },
  {
   "cell_type": "code",
   "execution_count": 124,
   "metadata": {},
   "outputs": [
    {
     "name": "stdout",
     "output_type": "stream",
     "text": [
      "[1, 2, 6, 24, 120, 720]\n"
     ]
    }
   ],
   "source": [
    "# Apply list Comprehension to calculate factorial\n",
    "# list of all factorals\n",
    "def fact(l):\n",
    "    li = [factorial(i) for i in range(1,l+1)] \n",
    "    print(li)\n",
    "fact(6)"
   ]
  },
  {
   "cell_type": "code",
   "execution_count": 128,
   "metadata": {},
   "outputs": [
    {
     "data": {
      "text/plain": [
       "3"
      ]
     },
     "execution_count": 128,
     "metadata": {},
     "output_type": "execute_result"
    }
   ],
   "source": [
    "# Store cumulative sum of numbers the \n",
    "def cumSum(n):\n",
    "    li = [i for i in range(0,n+1)]\n",
    "    sum(li)\n",
    "    return sum(li)\n",
    "cumSum(2)"
   ]
  },
  {
   "cell_type": "code",
   "execution_count": 130,
   "metadata": {},
   "outputs": [
    {
     "name": "stdout",
     "output_type": "stream",
     "text": [
      "[1, 3, 6, 10, 15]\n"
     ]
    }
   ],
   "source": [
    "\n",
    "def generatCumu(n):\n",
    "    li = [cumSum(i) for i in range(1,n+1)]\n",
    "    print(li)\n",
    "generatCumu(5)\n"
   ]
  },
  {
   "cell_type": "code",
   "execution_count": 133,
   "metadata": {},
   "outputs": [
    {
     "name": "stdout",
     "output_type": "stream",
     "text": [
      "[1, 3, 6, 10, 15]\n"
     ]
    }
   ],
   "source": [
    "# Pavan's Sir logic\n",
    "def generateCumulative(n):\n",
    "    ls = [sum(range(i+1)) for i in range(1,n+1)]\n",
    "    print(ls)\n",
    "generateCumulative(5)"
   ]
  },
  {
   "cell_type": "code",
   "execution_count": 148,
   "metadata": {},
   "outputs": [
    {
     "name": "stdout",
     "output_type": "stream",
     "text": [
      "[1972, 1976, 1980, 1984, 1988, 1992, 1996, 2000, 2004, 2008, 2012, 2016]\n"
     ]
    }
   ],
   "source": [
    "# Function to store only leap years in a time period\n",
    "lb = 1970\n",
    "ub = 2016\n",
    "li = [lb for lb in range(lb,ub+1) if lb%400==0 or (lb%100!=0 and lb%4==0)]\n",
    "print(li)"
   ]
  },
  {
   "cell_type": "code",
   "execution_count": 181,
   "metadata": {},
   "outputs": [
    {
     "name": "stdout",
     "output_type": "stream",
     "text": [
      "[1, 3, 2, 21]\n"
     ]
    }
   ],
   "source": [
    "# Pavan Sir's Logic\n",
    "li = [1,3,2,2,1,2,21]\n",
    "u = []\n",
    "[u.append(i) for i in li if i not in u]\n",
    "print(u)"
   ]
  },
  {
   "cell_type": "markdown",
   "metadata": {},
   "source": [
    "# Iterators"
   ]
  },
  {
   "cell_type": "markdown",
   "metadata": {},
   "source": [
    "Iterable - Strings,Lists,Tuples,Dictionaries,Sets\n",
    "These are recognized by for loop\n",
    "\n",
    "Convert Iterable to Iterator\n",
    "\n",
    "For Loop:\n",
    "- repeating upto a condition is true\n",
    "- we can't stop until the condition gets true\n",
    "\n",
    "Iterator:\n",
    "\n",
    "- we can stop the loop\n"
   ]
  },
  {
   "cell_type": "code",
   "execution_count": 199,
   "metadata": {},
   "outputs": [
    {
     "data": {
      "text/plain": [
       "['y', 'h', 'n']"
      ]
     },
     "execution_count": 199,
     "metadata": {},
     "output_type": "execute_result"
    }
   ],
   "source": [
    "it = iter('Python')\n",
    "ls = []\n",
    "for i in it:\n",
    "    ls.append(next(it))\n",
    "ls"
   ]
  },
  {
   "cell_type": "markdown",
   "metadata": {},
   "source": [
    "# Generator"
   ]
  },
  {
   "cell_type": "markdown",
   "metadata": {},
   "source": [
    "Generator is Function we can start generating code ,it remembers where we stopped and where we has to start\n",
    "\n"
   ]
  },
  {
   "cell_type": "code",
   "execution_count": 212,
   "metadata": {},
   "outputs": [
    {
     "data": {
      "text/plain": [
       "(512, 3)"
      ]
     },
     "execution_count": 212,
     "metadata": {},
     "output_type": "execute_result"
    }
   ],
   "source": [
    "def generator():\n",
    "    n = 2\n",
    "    m = 3\n",
    "    yield n,m\n",
    "    n = n**3\n",
    "    yield n,m\n",
    "    n = n**3\n",
    "    yield n,m\n",
    "a = generator()\n",
    "next(a)\n",
    "next(a)\n",
    "next(a)"
   ]
  },
  {
   "cell_type": "code",
   "execution_count": null,
   "metadata": {},
   "outputs": [],
   "source": [
    "def generate():\n",
    "    n = 2\n",
    "    for i in range(1,5):\n",
    "        n **=3\n",
    "        yield n\n",
    "a = generate()"
   ]
  },
  {
   "cell_type": "code",
   "execution_count": null,
   "metadata": {},
   "outputs": [],
   "source": []
  }
 ],
 "metadata": {
  "kernelspec": {
   "display_name": "Python 3",
   "language": "python",
   "name": "python3"
  },
  "language_info": {
   "codemirror_mode": {
    "name": "ipython",
    "version": 3
   },
   "file_extension": ".py",
   "mimetype": "text/x-python",
   "name": "python",
   "nbconvert_exporter": "python",
   "pygments_lexer": "ipython3",
   "version": "3.7.3"
  }
 },
 "nbformat": 4,
 "nbformat_minor": 2
}
